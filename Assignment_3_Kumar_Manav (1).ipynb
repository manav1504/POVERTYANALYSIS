{
  "nbformat": 4,
  "nbformat_minor": 0,
  "metadata": {
    "colab": {
      "provenance": []
    },
    "kernelspec": {
      "name": "python3",
      "display_name": "Python 3"
    },
    "language_info": {
      "name": "python"
    }
  },
  "cells": [
    {
      "cell_type": "markdown",
      "metadata": {
        "id": "7por6hHzcgTW"
      },
      "source": [
        "# Individual NN Classification Assignment (Spring 2024)\n",
        "**Dr. Dave Wanik - University of Connecticut**\n",
        "\n",
        "* Full Name:Kumar Manav\n",
        "* Student ID (7 digit number):3010566\n",
        "\n",
        "---------------------------------------------------------------------------\n",
        "\n",
        "Each student must complete and submit their own file, but you may work with your group for help. I do not want to see direct copy and pasted code otherwise you will get a zero.\n",
        "\n",
        "1. Read the data dictionary and description from here:\n",
        "\n",
        "* https://oehha.ca.gov/media/downloads/calenviroscreen/document/calenviroscreen40resultsdatadictionaryf2021.zip\n",
        "\n",
        " Download the data using gdown, read the Excel file using pandas, print the first 10 rows using df.head() and use df.info() to examine the data types and missing values.\n",
        "\n",
        "2. Simplify the raw dataframe so that you only keep the columns you need. The `X` variable will be the following columns: `Population`, `Ozone` through `Solid Waste Pctl`, and `Asthma` through `Linguistic Isolation Pctl`. The `y` variable will be `Poverty`. Examine the quality of each column and use your judgement about dropping rows or imputing missing values. Add text cells and lots of comments so we can understand your logic/justification!\n",
        "\n",
        "3. Recode the target variable to a 1 if greater than the mean value of poverty, otherwise make it a 0. Use this recoded variable as the target variable! Now it is a classification problem.\n",
        "\n",
        "4. Make two interesting plots or tables and a description of why you made the table and what you see.\n",
        "\n",
        "5. Do an 90/10 split for X_train, X_test, y_train, y_test where the random seed is equal to your 7 digit studentID number.\n",
        "\n",
        "6. Use the StandardScaler() on train and apply to test partition. Do not scale the target variable!\n",
        "\n",
        "7. Build a model using the Sequential API (like we do in class) with at least 2 dense layers with the relu activation function, and with dropout in between each dense layer (use a number between 0.1 and 0.5). Compile the model using an appropriate optimizer. Use early stopping with patience of at least 10 and restore the best weights once the model converges. You can choose whatever batch size you would like to.\n",
        "\n",
        "8. Fit the model for 100000 epochs with a batch size of your choice, using X_test and y_test as the validation data. **Don’t forget the early stopping callback!**\n",
        "\n",
        "9. Evaluate the model using learning curves, error metrics and confusion matrices for each partition (like we do in class). You should largely be able to copy and paste this from class notebooks. Add a few bullet points about what you see (did your model learn nice and gently?  If you don't have text cells here, you will lose points.\n",
        "\n",
        "10. Calculate what a baseline prediction would be for the train and test partitions (a mean only model). Did your model do better than the baseline predictions? If so, you have a useful model!"
      ]
    },
    {
      "cell_type": "markdown",
      "metadata": {
        "id": "RSBDw0iEErUJ"
      },
      "source": [
        "# Read Data and Import Modules"
      ]
    },
    {
      "cell_type": "code",
      "metadata": {
        "id": "gFcKcj142-Yw"
      },
      "source": [
        "# import modules\n",
        "# for general data analysis/plotting\n",
        "import pandas as pd\n",
        "import matplotlib.pyplot as plt\n",
        "import numpy as np\n",
        "\n",
        "# for data prep\n",
        "from sklearn.model_selection import train_test_split\n",
        "\n",
        "# neural net modules\n",
        "from keras.models import Sequential\n",
        "from keras.layers import Dense, Dropout\n",
        "from keras.callbacks import EarlyStopping"
      ],
      "execution_count": null,
      "outputs": []
    },
    {
      "cell_type": "code",
      "metadata": {
        "colab": {
          "base_uri": "https://localhost:8080/"
        },
        "id": "XKQYozqn3Drz",
        "outputId": "36b384af-9446-4135-867b-f87e3bf0d229"
      },
      "source": [
        "# https://drive.google.com/file/d/1_8vmQwSZ02ZOMw_IPHY5OWkwpXQLVW2E/view?usp=sharing\n",
        "!gdown --id 1_8vmQwSZ02ZOMw_IPHY5OWkwpXQLVW2E # ID for Environmental Health data! look up!\n",
        "df_CalEnviroScreen = pd.read_excel('CalEnviroScreen.xlsx')"
      ],
      "execution_count": null,
      "outputs": [
        {
          "output_type": "stream",
          "name": "stdout",
          "text": [
            "/usr/local/lib/python3.10/dist-packages/gdown/cli.py:138: FutureWarning: Option `--id` was deprecated in version 4.3.1 and will be removed in 5.0. You don't need to pass it anymore to use a file ID.\n",
            "  warnings.warn(\n",
            "Downloading...\n",
            "From: https://drive.google.com/uc?id=1_8vmQwSZ02ZOMw_IPHY5OWkwpXQLVW2E\n",
            "To: /content/CalEnviroScreen.xlsx\n",
            "100% 6.19M/6.19M [00:00<00:00, 182MB/s]\n"
          ]
        }
      ]
    },
    {
      "cell_type": "code",
      "metadata": {
        "colab": {
          "base_uri": "https://localhost:8080/"
        },
        "id": "6STrxO8F3J1r",
        "outputId": "f1046903-83a5-4244-a51d-31fbfc44e4c3"
      },
      "source": [
        "# read data\n",
        "df = pd.read_excel('CalEnviroScreen.xlsx')\n",
        "df.info()"
      ],
      "execution_count": null,
      "outputs": [
        {
          "output_type": "stream",
          "name": "stdout",
          "text": [
            "<class 'pandas.core.frame.DataFrame'>\n",
            "RangeIndex: 8035 entries, 0 to 8034\n",
            "Data columns (total 57 columns):\n",
            " #   Column                                            Non-Null Count  Dtype  \n",
            "---  ------                                            --------------  -----  \n",
            " 0   Census Tract                                      8035 non-null   int64  \n",
            " 1   Total Population                                  8035 non-null   int64  \n",
            " 2   California County                                 8035 non-null   object \n",
            " 3   ZIP                                               8035 non-null   int64  \n",
            " 4   Nearby City \n",
            "(to help approximate location only)  8035 non-null   object \n",
            " 5   Longitude                                         8035 non-null   float64\n",
            " 6   Latitude                                          8035 non-null   float64\n",
            " 7   CES 3.0 Score                                     7929 non-null   float64\n",
            " 8    CES 3.0 Percentile                               7929 non-null   float64\n",
            " 9   CES 3.0 \n",
            "Percentile Range                         7929 non-null   object \n",
            " 10  SB 535 Disadvantaged Community                    8035 non-null   object \n",
            " 11  Ozone                                             8035 non-null   float64\n",
            " 12  Ozone Pctl                                        8035 non-null   float64\n",
            " 13  PM2.5                                             8016 non-null   float64\n",
            " 14  PM2.5 Pctl                                        8016 non-null   float64\n",
            " 15  Diesel PM                                         8035 non-null   float64\n",
            " 16  Diesel PM Pctl                                    8035 non-null   float64\n",
            " 17  Drinking Water                                    8017 non-null   float64\n",
            " 18  Drinking Water Pctl                               8017 non-null   float64\n",
            " 19  Pesticides                                        8035 non-null   float64\n",
            " 20  Pesticides Pctl                                   8035 non-null   float64\n",
            " 21  Tox. Release                                      8035 non-null   float64\n",
            " 22  Tox. Release Pctl                                 8035 non-null   float64\n",
            " 23  Traffic                                           7979 non-null   float64\n",
            " 24  Traffic Pctl                                      7979 non-null   float64\n",
            " 25  Cleanup Sites                                     8035 non-null   float64\n",
            " 26  Cleanup Sites Pctl                                8035 non-null   float64\n",
            " 27  Groundwater Threats                               8035 non-null   float64\n",
            " 28  Groundwater Threats Pctl                          8035 non-null   float64\n",
            " 29  Haz. Waste                                        8035 non-null   float64\n",
            " 30  Haz. Waste Pctl                                   8035 non-null   float64\n",
            " 31  Imp. Water Bodies                                 8035 non-null   int64  \n",
            " 32  Imp. Water Bodies Pctl                            8035 non-null   float64\n",
            " 33  Solid Waste                                       8035 non-null   float64\n",
            " 34  Solid Waste Pctl                                  8035 non-null   float64\n",
            " 35  Pollution Burden                                  8035 non-null   float64\n",
            " 36  Pollution Burden Score                            8035 non-null   float64\n",
            " 37  Pollution Burden Pctl                             8035 non-null   float64\n",
            " 38  Asthma                                            8035 non-null   float64\n",
            " 39  Asthma Pctl                                       8035 non-null   float64\n",
            " 40  Low Birth Weight                                  7813 non-null   float64\n",
            " 41  Low Birth Weight Pctl                             7813 non-null   float64\n",
            " 42  Cardiovascular Disease                            8035 non-null   float64\n",
            " 43  Cardiovascular Disease Pctl                       8035 non-null   float64\n",
            " 44  Education                                         7939 non-null   float64\n",
            " 45  Education Pctl                                    7939 non-null   float64\n",
            " 46  Linguistic Isolation                              7793 non-null   float64\n",
            " 47  Linguistic Isolation Pctl                         7793 non-null   float64\n",
            " 48  Poverty                                           7956 non-null   float64\n",
            " 49  Poverty Pctl                                      7956 non-null   float64\n",
            " 50  Unemployment                                      7880 non-null   float64\n",
            " 51  Unemployment Pctl                                 7880 non-null   float64\n",
            " 52  Housing Burden                                    7878 non-null   float64\n",
            " 53  Housing Burden Pctl                               7878 non-null   float64\n",
            " 54  Pop. Char.                                        7929 non-null   float64\n",
            " 55  Pop. Char. Score                                  7929 non-null   float64\n",
            " 56  Pop. Char. Pctl                                   7929 non-null   float64\n",
            "dtypes: float64(49), int64(4), object(4)\n",
            "memory usage: 3.5+ MB\n"
          ]
        }
      ]
    },
    {
      "cell_type": "code",
      "metadata": {
        "id": "eCt8O7W85Y_z",
        "colab": {
          "base_uri": "https://localhost:8080/",
          "height": 655
        },
        "outputId": "079e9f5f-c1f5-4b65-a217-f7f0f50a07f8"
      },
      "source": [
        "df.head(10)\n"
      ],
      "execution_count": null,
      "outputs": [
        {
          "output_type": "execute_result",
          "data": {
            "text/plain": [
              "   Census Tract  Total Population California County    ZIP  \\\n",
              "0    6019001100              3174           Fresno   93706   \n",
              "1    6071001600              6133    San Bernardino  91761   \n",
              "2    6019000200              3167           Fresno   93706   \n",
              "3    6077000801              6692       San Joaquin  95203   \n",
              "4    6019001500              2206           Fresno   93725   \n",
              "5    6037204920              2598       Los Angeles  90023   \n",
              "6    6077000300              2396       San Joaquin  95203   \n",
              "7    6019001000              4106           Fresno   93706   \n",
              "8    6037206050              2146       Los Angeles  90023   \n",
              "9    6019000400              6343           Fresno   93721   \n",
              "\n",
              "  Nearby City \\n(to help approximate location only)   Longitude   Latitude  \\\n",
              "0                                            Fresno -119.781696  36.709695   \n",
              "1                                           Ontario -117.618013  34.057780   \n",
              "2                                            Fresno -119.805504  36.735491   \n",
              "3                                          Stockton -121.314524  37.940517   \n",
              "4                                            Fresno -119.717843  36.681600   \n",
              "5                                       Los Angeles -118.197497  34.017500   \n",
              "6                                          Stockton -121.302072  37.952421   \n",
              "7                                            Fresno -119.804314  36.697751   \n",
              "8                                       Los Angeles -118.224453  34.029904   \n",
              "9                                            Fresno -119.776209  36.727656   \n",
              "\n",
              "   CES 3.0 Score   CES 3.0 Percentile CES 3.0 \\nPercentile Range  ...  \\\n",
              "0      94.090246           100.000000   95-100% (highest scores)  ...   \n",
              "1      90.677839            99.987388   95-100% (highest scores)  ...   \n",
              "2      85.970036            99.974776   95-100% (highest scores)  ...   \n",
              "3      82.491521            99.962164   95-100% (highest scores)  ...   \n",
              "4      82.030814            99.949552   95-100% (highest scores)  ...   \n",
              "5      80.726872            99.936940   95-100% (highest scores)  ...   \n",
              "6      80.178935            99.924328   95-100% (highest scores)  ...   \n",
              "7      80.134819            99.911716   95-100% (highest scores)  ...   \n",
              "8      79.025293            99.899105   95-100% (highest scores)  ...   \n",
              "9      78.529850            99.886493   95-100% (highest scores)  ...   \n",
              "\n",
              "  Linguistic Isolation Pctl  Poverty  Poverty Pctl  Unemployment  \\\n",
              "0                 77.509665     76.3     97.121307          17.6   \n",
              "1                 96.253833     72.5     94.632307          12.3   \n",
              "2                 78.389548     86.8     99.560025          16.1   \n",
              "3                 75.136648     61.3     85.568825          19.6   \n",
              "4                 73.723504     66.4     90.232558          18.6   \n",
              "5                 89.148114     66.4     90.232558          11.6   \n",
              "6                 92.401013     76.2     97.033312          14.4   \n",
              "7                 76.576456     74.5     95.901948          20.0   \n",
              "8                 97.120384     75.7     96.643620          28.5   \n",
              "9                 71.350487     83.4     99.082338          23.5   \n",
              "\n",
              "   Unemployment Pctl  Housing Burden  Housing Burden Pctl  Pop. Char.   \\\n",
              "0          91.724838            26.0            79.398324    92.120494   \n",
              "1          71.823836            34.1            93.754760    87.436849   \n",
              "2          87.980708            40.1            97.854785    94.581328   \n",
              "3          94.973981            21.1            63.544047    86.701266   \n",
              "4          93.654017            28.1            83.980706    80.075199   \n",
              "5          67.419723            22.0            67.034780    82.361214   \n",
              "6          82.002792            24.3            74.727088    91.940147   \n",
              "7          95.494352            31.8            90.720995    93.793697   \n",
              "8          99.505013            31.7            90.555979    80.249569   \n",
              "9          98.273893            23.2            71.337903    83.195409   \n",
              "\n",
              "   Pop. Char. Score  Pop. Char. Pctl  \n",
              "0          9.553509        99.697314  \n",
              "1          9.067784        98.108210  \n",
              "2          9.808714        99.987388  \n",
              "3          8.991499        97.717241  \n",
              "4          8.304332        92.760752  \n",
              "5          8.541407        94.892168  \n",
              "6          9.534806        99.646866  \n",
              "7          9.727032        99.911716  \n",
              "8          8.322415        92.962543  \n",
              "9          8.627918        95.711943  \n",
              "\n",
              "[10 rows x 57 columns]"
            ],
            "text/html": [
              "\n",
              "  <div id=\"df-20d01632-cd82-4815-a7c0-43d8620f95da\" class=\"colab-df-container\">\n",
              "    <div>\n",
              "<style scoped>\n",
              "    .dataframe tbody tr th:only-of-type {\n",
              "        vertical-align: middle;\n",
              "    }\n",
              "\n",
              "    .dataframe tbody tr th {\n",
              "        vertical-align: top;\n",
              "    }\n",
              "\n",
              "    .dataframe thead th {\n",
              "        text-align: right;\n",
              "    }\n",
              "</style>\n",
              "<table border=\"1\" class=\"dataframe\">\n",
              "  <thead>\n",
              "    <tr style=\"text-align: right;\">\n",
              "      <th></th>\n",
              "      <th>Census Tract</th>\n",
              "      <th>Total Population</th>\n",
              "      <th>California County</th>\n",
              "      <th>ZIP</th>\n",
              "      <th>Nearby City \\n(to help approximate location only)</th>\n",
              "      <th>Longitude</th>\n",
              "      <th>Latitude</th>\n",
              "      <th>CES 3.0 Score</th>\n",
              "      <th>CES 3.0 Percentile</th>\n",
              "      <th>CES 3.0 \\nPercentile Range</th>\n",
              "      <th>...</th>\n",
              "      <th>Linguistic Isolation Pctl</th>\n",
              "      <th>Poverty</th>\n",
              "      <th>Poverty Pctl</th>\n",
              "      <th>Unemployment</th>\n",
              "      <th>Unemployment Pctl</th>\n",
              "      <th>Housing Burden</th>\n",
              "      <th>Housing Burden Pctl</th>\n",
              "      <th>Pop. Char.</th>\n",
              "      <th>Pop. Char. Score</th>\n",
              "      <th>Pop. Char. Pctl</th>\n",
              "    </tr>\n",
              "  </thead>\n",
              "  <tbody>\n",
              "    <tr>\n",
              "      <th>0</th>\n",
              "      <td>6019001100</td>\n",
              "      <td>3174</td>\n",
              "      <td>Fresno</td>\n",
              "      <td>93706</td>\n",
              "      <td>Fresno</td>\n",
              "      <td>-119.781696</td>\n",
              "      <td>36.709695</td>\n",
              "      <td>94.090246</td>\n",
              "      <td>100.000000</td>\n",
              "      <td>95-100% (highest scores)</td>\n",
              "      <td>...</td>\n",
              "      <td>77.509665</td>\n",
              "      <td>76.3</td>\n",
              "      <td>97.121307</td>\n",
              "      <td>17.6</td>\n",
              "      <td>91.724838</td>\n",
              "      <td>26.0</td>\n",
              "      <td>79.398324</td>\n",
              "      <td>92.120494</td>\n",
              "      <td>9.553509</td>\n",
              "      <td>99.697314</td>\n",
              "    </tr>\n",
              "    <tr>\n",
              "      <th>1</th>\n",
              "      <td>6071001600</td>\n",
              "      <td>6133</td>\n",
              "      <td>San Bernardino</td>\n",
              "      <td>91761</td>\n",
              "      <td>Ontario</td>\n",
              "      <td>-117.618013</td>\n",
              "      <td>34.057780</td>\n",
              "      <td>90.677839</td>\n",
              "      <td>99.987388</td>\n",
              "      <td>95-100% (highest scores)</td>\n",
              "      <td>...</td>\n",
              "      <td>96.253833</td>\n",
              "      <td>72.5</td>\n",
              "      <td>94.632307</td>\n",
              "      <td>12.3</td>\n",
              "      <td>71.823836</td>\n",
              "      <td>34.1</td>\n",
              "      <td>93.754760</td>\n",
              "      <td>87.436849</td>\n",
              "      <td>9.067784</td>\n",
              "      <td>98.108210</td>\n",
              "    </tr>\n",
              "    <tr>\n",
              "      <th>2</th>\n",
              "      <td>6019000200</td>\n",
              "      <td>3167</td>\n",
              "      <td>Fresno</td>\n",
              "      <td>93706</td>\n",
              "      <td>Fresno</td>\n",
              "      <td>-119.805504</td>\n",
              "      <td>36.735491</td>\n",
              "      <td>85.970036</td>\n",
              "      <td>99.974776</td>\n",
              "      <td>95-100% (highest scores)</td>\n",
              "      <td>...</td>\n",
              "      <td>78.389548</td>\n",
              "      <td>86.8</td>\n",
              "      <td>99.560025</td>\n",
              "      <td>16.1</td>\n",
              "      <td>87.980708</td>\n",
              "      <td>40.1</td>\n",
              "      <td>97.854785</td>\n",
              "      <td>94.581328</td>\n",
              "      <td>9.808714</td>\n",
              "      <td>99.987388</td>\n",
              "    </tr>\n",
              "    <tr>\n",
              "      <th>3</th>\n",
              "      <td>6077000801</td>\n",
              "      <td>6692</td>\n",
              "      <td>San Joaquin</td>\n",
              "      <td>95203</td>\n",
              "      <td>Stockton</td>\n",
              "      <td>-121.314524</td>\n",
              "      <td>37.940517</td>\n",
              "      <td>82.491521</td>\n",
              "      <td>99.962164</td>\n",
              "      <td>95-100% (highest scores)</td>\n",
              "      <td>...</td>\n",
              "      <td>75.136648</td>\n",
              "      <td>61.3</td>\n",
              "      <td>85.568825</td>\n",
              "      <td>19.6</td>\n",
              "      <td>94.973981</td>\n",
              "      <td>21.1</td>\n",
              "      <td>63.544047</td>\n",
              "      <td>86.701266</td>\n",
              "      <td>8.991499</td>\n",
              "      <td>97.717241</td>\n",
              "    </tr>\n",
              "    <tr>\n",
              "      <th>4</th>\n",
              "      <td>6019001500</td>\n",
              "      <td>2206</td>\n",
              "      <td>Fresno</td>\n",
              "      <td>93725</td>\n",
              "      <td>Fresno</td>\n",
              "      <td>-119.717843</td>\n",
              "      <td>36.681600</td>\n",
              "      <td>82.030814</td>\n",
              "      <td>99.949552</td>\n",
              "      <td>95-100% (highest scores)</td>\n",
              "      <td>...</td>\n",
              "      <td>73.723504</td>\n",
              "      <td>66.4</td>\n",
              "      <td>90.232558</td>\n",
              "      <td>18.6</td>\n",
              "      <td>93.654017</td>\n",
              "      <td>28.1</td>\n",
              "      <td>83.980706</td>\n",
              "      <td>80.075199</td>\n",
              "      <td>8.304332</td>\n",
              "      <td>92.760752</td>\n",
              "    </tr>\n",
              "    <tr>\n",
              "      <th>5</th>\n",
              "      <td>6037204920</td>\n",
              "      <td>2598</td>\n",
              "      <td>Los Angeles</td>\n",
              "      <td>90023</td>\n",
              "      <td>Los Angeles</td>\n",
              "      <td>-118.197497</td>\n",
              "      <td>34.017500</td>\n",
              "      <td>80.726872</td>\n",
              "      <td>99.936940</td>\n",
              "      <td>95-100% (highest scores)</td>\n",
              "      <td>...</td>\n",
              "      <td>89.148114</td>\n",
              "      <td>66.4</td>\n",
              "      <td>90.232558</td>\n",
              "      <td>11.6</td>\n",
              "      <td>67.419723</td>\n",
              "      <td>22.0</td>\n",
              "      <td>67.034780</td>\n",
              "      <td>82.361214</td>\n",
              "      <td>8.541407</td>\n",
              "      <td>94.892168</td>\n",
              "    </tr>\n",
              "    <tr>\n",
              "      <th>6</th>\n",
              "      <td>6077000300</td>\n",
              "      <td>2396</td>\n",
              "      <td>San Joaquin</td>\n",
              "      <td>95203</td>\n",
              "      <td>Stockton</td>\n",
              "      <td>-121.302072</td>\n",
              "      <td>37.952421</td>\n",
              "      <td>80.178935</td>\n",
              "      <td>99.924328</td>\n",
              "      <td>95-100% (highest scores)</td>\n",
              "      <td>...</td>\n",
              "      <td>92.401013</td>\n",
              "      <td>76.2</td>\n",
              "      <td>97.033312</td>\n",
              "      <td>14.4</td>\n",
              "      <td>82.002792</td>\n",
              "      <td>24.3</td>\n",
              "      <td>74.727088</td>\n",
              "      <td>91.940147</td>\n",
              "      <td>9.534806</td>\n",
              "      <td>99.646866</td>\n",
              "    </tr>\n",
              "    <tr>\n",
              "      <th>7</th>\n",
              "      <td>6019001000</td>\n",
              "      <td>4106</td>\n",
              "      <td>Fresno</td>\n",
              "      <td>93706</td>\n",
              "      <td>Fresno</td>\n",
              "      <td>-119.804314</td>\n",
              "      <td>36.697751</td>\n",
              "      <td>80.134819</td>\n",
              "      <td>99.911716</td>\n",
              "      <td>95-100% (highest scores)</td>\n",
              "      <td>...</td>\n",
              "      <td>76.576456</td>\n",
              "      <td>74.5</td>\n",
              "      <td>95.901948</td>\n",
              "      <td>20.0</td>\n",
              "      <td>95.494352</td>\n",
              "      <td>31.8</td>\n",
              "      <td>90.720995</td>\n",
              "      <td>93.793697</td>\n",
              "      <td>9.727032</td>\n",
              "      <td>99.911716</td>\n",
              "    </tr>\n",
              "    <tr>\n",
              "      <th>8</th>\n",
              "      <td>6037206050</td>\n",
              "      <td>2146</td>\n",
              "      <td>Los Angeles</td>\n",
              "      <td>90023</td>\n",
              "      <td>Los Angeles</td>\n",
              "      <td>-118.224453</td>\n",
              "      <td>34.029904</td>\n",
              "      <td>79.025293</td>\n",
              "      <td>99.899105</td>\n",
              "      <td>95-100% (highest scores)</td>\n",
              "      <td>...</td>\n",
              "      <td>97.120384</td>\n",
              "      <td>75.7</td>\n",
              "      <td>96.643620</td>\n",
              "      <td>28.5</td>\n",
              "      <td>99.505013</td>\n",
              "      <td>31.7</td>\n",
              "      <td>90.555979</td>\n",
              "      <td>80.249569</td>\n",
              "      <td>8.322415</td>\n",
              "      <td>92.962543</td>\n",
              "    </tr>\n",
              "    <tr>\n",
              "      <th>9</th>\n",
              "      <td>6019000400</td>\n",
              "      <td>6343</td>\n",
              "      <td>Fresno</td>\n",
              "      <td>93721</td>\n",
              "      <td>Fresno</td>\n",
              "      <td>-119.776209</td>\n",
              "      <td>36.727656</td>\n",
              "      <td>78.529850</td>\n",
              "      <td>99.886493</td>\n",
              "      <td>95-100% (highest scores)</td>\n",
              "      <td>...</td>\n",
              "      <td>71.350487</td>\n",
              "      <td>83.4</td>\n",
              "      <td>99.082338</td>\n",
              "      <td>23.5</td>\n",
              "      <td>98.273893</td>\n",
              "      <td>23.2</td>\n",
              "      <td>71.337903</td>\n",
              "      <td>83.195409</td>\n",
              "      <td>8.627918</td>\n",
              "      <td>95.711943</td>\n",
              "    </tr>\n",
              "  </tbody>\n",
              "</table>\n",
              "<p>10 rows × 57 columns</p>\n",
              "</div>\n",
              "    <div class=\"colab-df-buttons\">\n",
              "\n",
              "  <div class=\"colab-df-container\">\n",
              "    <button class=\"colab-df-convert\" onclick=\"convertToInteractive('df-20d01632-cd82-4815-a7c0-43d8620f95da')\"\n",
              "            title=\"Convert this dataframe to an interactive table.\"\n",
              "            style=\"display:none;\">\n",
              "\n",
              "  <svg xmlns=\"http://www.w3.org/2000/svg\" height=\"24px\" viewBox=\"0 -960 960 960\">\n",
              "    <path d=\"M120-120v-720h720v720H120Zm60-500h600v-160H180v160Zm220 220h160v-160H400v160Zm0 220h160v-160H400v160ZM180-400h160v-160H180v160Zm440 0h160v-160H620v160ZM180-180h160v-160H180v160Zm440 0h160v-160H620v160Z\"/>\n",
              "  </svg>\n",
              "    </button>\n",
              "\n",
              "  <style>\n",
              "    .colab-df-container {\n",
              "      display:flex;\n",
              "      gap: 12px;\n",
              "    }\n",
              "\n",
              "    .colab-df-convert {\n",
              "      background-color: #E8F0FE;\n",
              "      border: none;\n",
              "      border-radius: 50%;\n",
              "      cursor: pointer;\n",
              "      display: none;\n",
              "      fill: #1967D2;\n",
              "      height: 32px;\n",
              "      padding: 0 0 0 0;\n",
              "      width: 32px;\n",
              "    }\n",
              "\n",
              "    .colab-df-convert:hover {\n",
              "      background-color: #E2EBFA;\n",
              "      box-shadow: 0px 1px 2px rgba(60, 64, 67, 0.3), 0px 1px 3px 1px rgba(60, 64, 67, 0.15);\n",
              "      fill: #174EA6;\n",
              "    }\n",
              "\n",
              "    .colab-df-buttons div {\n",
              "      margin-bottom: 4px;\n",
              "    }\n",
              "\n",
              "    [theme=dark] .colab-df-convert {\n",
              "      background-color: #3B4455;\n",
              "      fill: #D2E3FC;\n",
              "    }\n",
              "\n",
              "    [theme=dark] .colab-df-convert:hover {\n",
              "      background-color: #434B5C;\n",
              "      box-shadow: 0px 1px 3px 1px rgba(0, 0, 0, 0.15);\n",
              "      filter: drop-shadow(0px 1px 2px rgba(0, 0, 0, 0.3));\n",
              "      fill: #FFFFFF;\n",
              "    }\n",
              "  </style>\n",
              "\n",
              "    <script>\n",
              "      const buttonEl =\n",
              "        document.querySelector('#df-20d01632-cd82-4815-a7c0-43d8620f95da button.colab-df-convert');\n",
              "      buttonEl.style.display =\n",
              "        google.colab.kernel.accessAllowed ? 'block' : 'none';\n",
              "\n",
              "      async function convertToInteractive(key) {\n",
              "        const element = document.querySelector('#df-20d01632-cd82-4815-a7c0-43d8620f95da');\n",
              "        const dataTable =\n",
              "          await google.colab.kernel.invokeFunction('convertToInteractive',\n",
              "                                                    [key], {});\n",
              "        if (!dataTable) return;\n",
              "\n",
              "        const docLinkHtml = 'Like what you see? Visit the ' +\n",
              "          '<a target=\"_blank\" href=https://colab.research.google.com/notebooks/data_table.ipynb>data table notebook</a>'\n",
              "          + ' to learn more about interactive tables.';\n",
              "        element.innerHTML = '';\n",
              "        dataTable['output_type'] = 'display_data';\n",
              "        await google.colab.output.renderOutput(dataTable, element);\n",
              "        const docLink = document.createElement('div');\n",
              "        docLink.innerHTML = docLinkHtml;\n",
              "        element.appendChild(docLink);\n",
              "      }\n",
              "    </script>\n",
              "  </div>\n",
              "\n",
              "\n",
              "<div id=\"df-98c8465b-4103-489f-9ff9-268385f8569f\">\n",
              "  <button class=\"colab-df-quickchart\" onclick=\"quickchart('df-98c8465b-4103-489f-9ff9-268385f8569f')\"\n",
              "            title=\"Suggest charts\"\n",
              "            style=\"display:none;\">\n",
              "\n",
              "<svg xmlns=\"http://www.w3.org/2000/svg\" height=\"24px\"viewBox=\"0 0 24 24\"\n",
              "     width=\"24px\">\n",
              "    <g>\n",
              "        <path d=\"M19 3H5c-1.1 0-2 .9-2 2v14c0 1.1.9 2 2 2h14c1.1 0 2-.9 2-2V5c0-1.1-.9-2-2-2zM9 17H7v-7h2v7zm4 0h-2V7h2v10zm4 0h-2v-4h2v4z\"/>\n",
              "    </g>\n",
              "</svg>\n",
              "  </button>\n",
              "\n",
              "<style>\n",
              "  .colab-df-quickchart {\n",
              "      --bg-color: #E8F0FE;\n",
              "      --fill-color: #1967D2;\n",
              "      --hover-bg-color: #E2EBFA;\n",
              "      --hover-fill-color: #174EA6;\n",
              "      --disabled-fill-color: #AAA;\n",
              "      --disabled-bg-color: #DDD;\n",
              "  }\n",
              "\n",
              "  [theme=dark] .colab-df-quickchart {\n",
              "      --bg-color: #3B4455;\n",
              "      --fill-color: #D2E3FC;\n",
              "      --hover-bg-color: #434B5C;\n",
              "      --hover-fill-color: #FFFFFF;\n",
              "      --disabled-bg-color: #3B4455;\n",
              "      --disabled-fill-color: #666;\n",
              "  }\n",
              "\n",
              "  .colab-df-quickchart {\n",
              "    background-color: var(--bg-color);\n",
              "    border: none;\n",
              "    border-radius: 50%;\n",
              "    cursor: pointer;\n",
              "    display: none;\n",
              "    fill: var(--fill-color);\n",
              "    height: 32px;\n",
              "    padding: 0;\n",
              "    width: 32px;\n",
              "  }\n",
              "\n",
              "  .colab-df-quickchart:hover {\n",
              "    background-color: var(--hover-bg-color);\n",
              "    box-shadow: 0 1px 2px rgba(60, 64, 67, 0.3), 0 1px 3px 1px rgba(60, 64, 67, 0.15);\n",
              "    fill: var(--button-hover-fill-color);\n",
              "  }\n",
              "\n",
              "  .colab-df-quickchart-complete:disabled,\n",
              "  .colab-df-quickchart-complete:disabled:hover {\n",
              "    background-color: var(--disabled-bg-color);\n",
              "    fill: var(--disabled-fill-color);\n",
              "    box-shadow: none;\n",
              "  }\n",
              "\n",
              "  .colab-df-spinner {\n",
              "    border: 2px solid var(--fill-color);\n",
              "    border-color: transparent;\n",
              "    border-bottom-color: var(--fill-color);\n",
              "    animation:\n",
              "      spin 1s steps(1) infinite;\n",
              "  }\n",
              "\n",
              "  @keyframes spin {\n",
              "    0% {\n",
              "      border-color: transparent;\n",
              "      border-bottom-color: var(--fill-color);\n",
              "      border-left-color: var(--fill-color);\n",
              "    }\n",
              "    20% {\n",
              "      border-color: transparent;\n",
              "      border-left-color: var(--fill-color);\n",
              "      border-top-color: var(--fill-color);\n",
              "    }\n",
              "    30% {\n",
              "      border-color: transparent;\n",
              "      border-left-color: var(--fill-color);\n",
              "      border-top-color: var(--fill-color);\n",
              "      border-right-color: var(--fill-color);\n",
              "    }\n",
              "    40% {\n",
              "      border-color: transparent;\n",
              "      border-right-color: var(--fill-color);\n",
              "      border-top-color: var(--fill-color);\n",
              "    }\n",
              "    60% {\n",
              "      border-color: transparent;\n",
              "      border-right-color: var(--fill-color);\n",
              "    }\n",
              "    80% {\n",
              "      border-color: transparent;\n",
              "      border-right-color: var(--fill-color);\n",
              "      border-bottom-color: var(--fill-color);\n",
              "    }\n",
              "    90% {\n",
              "      border-color: transparent;\n",
              "      border-bottom-color: var(--fill-color);\n",
              "    }\n",
              "  }\n",
              "</style>\n",
              "\n",
              "  <script>\n",
              "    async function quickchart(key) {\n",
              "      const quickchartButtonEl =\n",
              "        document.querySelector('#' + key + ' button');\n",
              "      quickchartButtonEl.disabled = true;  // To prevent multiple clicks.\n",
              "      quickchartButtonEl.classList.add('colab-df-spinner');\n",
              "      try {\n",
              "        const charts = await google.colab.kernel.invokeFunction(\n",
              "            'suggestCharts', [key], {});\n",
              "      } catch (error) {\n",
              "        console.error('Error during call to suggestCharts:', error);\n",
              "      }\n",
              "      quickchartButtonEl.classList.remove('colab-df-spinner');\n",
              "      quickchartButtonEl.classList.add('colab-df-quickchart-complete');\n",
              "    }\n",
              "    (() => {\n",
              "      let quickchartButtonEl =\n",
              "        document.querySelector('#df-98c8465b-4103-489f-9ff9-268385f8569f button');\n",
              "      quickchartButtonEl.style.display =\n",
              "        google.colab.kernel.accessAllowed ? 'block' : 'none';\n",
              "    })();\n",
              "  </script>\n",
              "</div>\n",
              "    </div>\n",
              "  </div>\n"
            ],
            "application/vnd.google.colaboratory.intrinsic+json": {
              "type": "dataframe",
              "variable_name": "df"
            }
          },
          "metadata": {},
          "execution_count": 4
        }
      ]
    },
    {
      "cell_type": "code",
      "source": [
        "#Update df to only include needed columns\n",
        "df = df[['Total Population', 'Ozone', 'Solid Waste Pctl', 'Asthma',\n",
        "       'Asthma Pctl', 'Low Birth Weight', 'Low Birth Weight Pctl',\n",
        "       'Cardiovascular Disease', 'Cardiovascular Disease Pctl', 'Education',\n",
        "       'Education Pctl', 'Linguistic Isolation', 'Linguistic Isolation Pctl', 'Poverty']]\n"
      ],
      "metadata": {
        "id": "fGpioNAMWQ7c"
      },
      "execution_count": null,
      "outputs": []
    },
    {
      "cell_type": "code",
      "source": [
        "df.info()#verify"
      ],
      "metadata": {
        "colab": {
          "base_uri": "https://localhost:8080/"
        },
        "id": "kusnOZwQYTrY",
        "outputId": "1bf22653-ef7b-4c32-df2c-d5bd1991f7c8"
      },
      "execution_count": null,
      "outputs": [
        {
          "output_type": "stream",
          "name": "stdout",
          "text": [
            "<class 'pandas.core.frame.DataFrame'>\n",
            "RangeIndex: 8035 entries, 0 to 8034\n",
            "Data columns (total 14 columns):\n",
            " #   Column                       Non-Null Count  Dtype  \n",
            "---  ------                       --------------  -----  \n",
            " 0   Total Population             8035 non-null   int64  \n",
            " 1   Ozone                        8035 non-null   float64\n",
            " 2   Solid Waste Pctl             8035 non-null   float64\n",
            " 3   Asthma                       8035 non-null   float64\n",
            " 4   Asthma Pctl                  8035 non-null   float64\n",
            " 5   Low Birth Weight             7813 non-null   float64\n",
            " 6   Low Birth Weight Pctl        7813 non-null   float64\n",
            " 7   Cardiovascular Disease       8035 non-null   float64\n",
            " 8   Cardiovascular Disease Pctl  8035 non-null   float64\n",
            " 9   Education                    7939 non-null   float64\n",
            " 10  Education Pctl               7939 non-null   float64\n",
            " 11  Linguistic Isolation         7793 non-null   float64\n",
            " 12  Linguistic Isolation Pctl    7793 non-null   float64\n",
            " 13  Poverty                      7956 non-null   float64\n",
            "dtypes: float64(13), int64(1)\n",
            "memory usage: 879.0 KB\n"
          ]
        }
      ]
    },
    {
      "cell_type": "markdown",
      "source": [
        "It is evident that there are quite a few number of rows that are missing from important columns. we can try a combination of dropping and imputing columns based on available data dictionary"
      ],
      "metadata": {
        "id": "i68CRp0iY6Ne"
      }
    },
    {
      "cell_type": "code",
      "source": [
        "#low birth weight percent and  percentile\n",
        "\n",
        "df['Low Birth Weight'].isnull().sum()\n"
      ],
      "metadata": {
        "colab": {
          "base_uri": "https://localhost:8080/"
        },
        "id": "s5MtIAzBY5W-",
        "outputId": "dbbfc6d4-f8c7-4ab2-ee7d-8cc25290c930"
      },
      "execution_count": null,
      "outputs": [
        {
          "output_type": "execute_result",
          "data": {
            "text/plain": [
              "222"
            ]
          },
          "metadata": {},
          "execution_count": 7
        }
      ]
    },
    {
      "cell_type": "code",
      "source": [
        "df['Low Birth Weight Pctl'].isnull().sum()"
      ],
      "metadata": {
        "colab": {
          "base_uri": "https://localhost:8080/"
        },
        "id": "SnADwVGzYVOO",
        "outputId": "f965a6ea-4f43-4511-d7c7-a54f427bcb0b"
      },
      "execution_count": null,
      "outputs": [
        {
          "output_type": "execute_result",
          "data": {
            "text/plain": [
              "222"
            ]
          },
          "metadata": {},
          "execution_count": 8
        }
      ]
    },
    {
      "cell_type": "markdown",
      "source": [],
      "metadata": {
        "id": "n45Epvvvbfl3"
      }
    },
    {
      "cell_type": "code",
      "source": [
        "df['Low Birth Weight'].describe()#a look at stats"
      ],
      "metadata": {
        "colab": {
          "base_uri": "https://localhost:8080/"
        },
        "id": "Kdbh0ATkbkdW",
        "outputId": "66c533d0-a9af-4c8d-fd6e-ecf808951fea"
      },
      "execution_count": null,
      "outputs": [
        {
          "output_type": "execute_result",
          "data": {
            "text/plain": [
              "count    7813.000000\n",
              "mean        4.976329\n",
              "std         1.551352\n",
              "min         0.000000\n",
              "25%         3.950000\n",
              "50%         4.920000\n",
              "75%         5.930000\n",
              "max        14.890000\n",
              "Name: Low Birth Weight, dtype: float64"
            ]
          },
          "metadata": {},
          "execution_count": 9
        }
      ]
    },
    {
      "cell_type": "code",
      "source": [
        "#There is a wide range for birth rate, it would be better to remove those rows rather than impute to ensure that target variable is not skewed\n",
        "# Drop rows with NaN values from multiple columns\n",
        "df.dropna(subset=['Low Birth Weight', 'Low Birth Weight Pctl'], inplace=True)\n",
        "df.info()\n"
      ],
      "metadata": {
        "colab": {
          "base_uri": "https://localhost:8080/"
        },
        "id": "gP7MI2dlbomo",
        "outputId": "bcb30359-e039-437d-e914-bc6e61f172ca"
      },
      "execution_count": null,
      "outputs": [
        {
          "output_type": "stream",
          "name": "stdout",
          "text": [
            "<class 'pandas.core.frame.DataFrame'>\n",
            "Int64Index: 7813 entries, 0 to 8000\n",
            "Data columns (total 14 columns):\n",
            " #   Column                       Non-Null Count  Dtype  \n",
            "---  ------                       --------------  -----  \n",
            " 0   Total Population             7813 non-null   int64  \n",
            " 1   Ozone                        7813 non-null   float64\n",
            " 2   Solid Waste Pctl             7813 non-null   float64\n",
            " 3   Asthma                       7813 non-null   float64\n",
            " 4   Asthma Pctl                  7813 non-null   float64\n",
            " 5   Low Birth Weight             7813 non-null   float64\n",
            " 6   Low Birth Weight Pctl        7813 non-null   float64\n",
            " 7   Cardiovascular Disease       7813 non-null   float64\n",
            " 8   Cardiovascular Disease Pctl  7813 non-null   float64\n",
            " 9   Education                    7787 non-null   float64\n",
            " 10  Education Pctl               7787 non-null   float64\n",
            " 11  Linguistic Isolation         7694 non-null   float64\n",
            " 12  Linguistic Isolation Pctl    7694 non-null   float64\n",
            " 13  Poverty                      7808 non-null   float64\n",
            "dtypes: float64(13), int64(1)\n",
            "memory usage: 915.6 KB\n"
          ]
        },
        {
          "output_type": "stream",
          "name": "stderr",
          "text": [
            "<ipython-input-10-6b43ace075ed>:3: SettingWithCopyWarning: \n",
            "A value is trying to be set on a copy of a slice from a DataFrame\n",
            "\n",
            "See the caveats in the documentation: https://pandas.pydata.org/pandas-docs/stable/user_guide/indexing.html#returning-a-view-versus-a-copy\n",
            "  df.dropna(subset=['Low Birth Weight', 'Low Birth Weight Pctl'], inplace=True)\n"
          ]
        }
      ]
    },
    {
      "cell_type": "code",
      "source": [
        "df['Education'].isnull().sum()"
      ],
      "metadata": {
        "colab": {
          "base_uri": "https://localhost:8080/"
        },
        "id": "EVehF5qKceU_",
        "outputId": "2618533e-7e5e-4582-c4cf-ca619e360191"
      },
      "execution_count": null,
      "outputs": [
        {
          "output_type": "execute_result",
          "data": {
            "text/plain": [
              "26"
            ]
          },
          "metadata": {},
          "execution_count": 11
        }
      ]
    },
    {
      "cell_type": "code",
      "source": [
        "df['Education Pctl'].isnull().sum()"
      ],
      "metadata": {
        "colab": {
          "base_uri": "https://localhost:8080/"
        },
        "id": "MVPWquL8c9fG",
        "outputId": "2b60bd9f-9a88-449b-9889-df44b9705ce2"
      },
      "execution_count": null,
      "outputs": [
        {
          "output_type": "execute_result",
          "data": {
            "text/plain": [
              "26"
            ]
          },
          "metadata": {},
          "execution_count": 12
        }
      ]
    },
    {
      "cell_type": "code",
      "source": [
        "#as there are very less number of missing columns we can impute by mean and median\n",
        "df['Education'].fillna(df['Education'].mean(), inplace=True)\n",
        "df['Education Pctl'].fillna(df['Education Pctl'].median(), inplace=True)\n",
        "df.info()"
      ],
      "metadata": {
        "colab": {
          "base_uri": "https://localhost:8080/"
        },
        "id": "MDqgN2-sdEKJ",
        "outputId": "03c72cc8-cdbb-4134-b38c-c745686ead69"
      },
      "execution_count": null,
      "outputs": [
        {
          "output_type": "stream",
          "name": "stdout",
          "text": [
            "<class 'pandas.core.frame.DataFrame'>\n",
            "Int64Index: 7813 entries, 0 to 8000\n",
            "Data columns (total 14 columns):\n",
            " #   Column                       Non-Null Count  Dtype  \n",
            "---  ------                       --------------  -----  \n",
            " 0   Total Population             7813 non-null   int64  \n",
            " 1   Ozone                        7813 non-null   float64\n",
            " 2   Solid Waste Pctl             7813 non-null   float64\n",
            " 3   Asthma                       7813 non-null   float64\n",
            " 4   Asthma Pctl                  7813 non-null   float64\n",
            " 5   Low Birth Weight             7813 non-null   float64\n",
            " 6   Low Birth Weight Pctl        7813 non-null   float64\n",
            " 7   Cardiovascular Disease       7813 non-null   float64\n",
            " 8   Cardiovascular Disease Pctl  7813 non-null   float64\n",
            " 9   Education                    7813 non-null   float64\n",
            " 10  Education Pctl               7813 non-null   float64\n",
            " 11  Linguistic Isolation         7694 non-null   float64\n",
            " 12  Linguistic Isolation Pctl    7694 non-null   float64\n",
            " 13  Poverty                      7808 non-null   float64\n",
            "dtypes: float64(13), int64(1)\n",
            "memory usage: 915.6 KB\n"
          ]
        },
        {
          "output_type": "stream",
          "name": "stderr",
          "text": [
            "<ipython-input-13-85c52f8a5c9d>:2: SettingWithCopyWarning: \n",
            "A value is trying to be set on a copy of a slice from a DataFrame\n",
            "\n",
            "See the caveats in the documentation: https://pandas.pydata.org/pandas-docs/stable/user_guide/indexing.html#returning-a-view-versus-a-copy\n",
            "  df['Education'].fillna(df['Education'].mean(), inplace=True)\n",
            "<ipython-input-13-85c52f8a5c9d>:3: SettingWithCopyWarning: \n",
            "A value is trying to be set on a copy of a slice from a DataFrame\n",
            "\n",
            "See the caveats in the documentation: https://pandas.pydata.org/pandas-docs/stable/user_guide/indexing.html#returning-a-view-versus-a-copy\n",
            "  df['Education Pctl'].fillna(df['Education Pctl'].median(), inplace=True)\n"
          ]
        }
      ]
    },
    {
      "cell_type": "code",
      "source": [
        "df['Linguistic Isolation'].isnull().sum()"
      ],
      "metadata": {
        "colab": {
          "base_uri": "https://localhost:8080/"
        },
        "id": "6E1cM1lOealh",
        "outputId": "0daecd86-82b3-4230-b2c6-761425baa79c"
      },
      "execution_count": null,
      "outputs": [
        {
          "output_type": "execute_result",
          "data": {
            "text/plain": [
              "119"
            ]
          },
          "metadata": {},
          "execution_count": 14
        }
      ]
    },
    {
      "cell_type": "code",
      "source": [
        "df['Linguistic Isolation Pctl'].isnull().sum()"
      ],
      "metadata": {
        "colab": {
          "base_uri": "https://localhost:8080/"
        },
        "id": "TMZ-UzDMeU0S",
        "outputId": "35474bb9-570f-4e92-9096-e630c8b11665"
      },
      "execution_count": null,
      "outputs": [
        {
          "output_type": "execute_result",
          "data": {
            "text/plain": [
              "119"
            ]
          },
          "metadata": {},
          "execution_count": 15
        }
      ]
    },
    {
      "cell_type": "code",
      "source": [
        "df['Poverty'].isnull().sum()"
      ],
      "metadata": {
        "colab": {
          "base_uri": "https://localhost:8080/"
        },
        "id": "ZJZtSdL4elCE",
        "outputId": "ff530885-d397-4045-c606-7460ff26faac"
      },
      "execution_count": null,
      "outputs": [
        {
          "output_type": "execute_result",
          "data": {
            "text/plain": [
              "5"
            ]
          },
          "metadata": {},
          "execution_count": 16
        }
      ]
    },
    {
      "cell_type": "code",
      "source": [
        "#as there are very less number of missing columns we can impute by mean and median\n",
        "df['Poverty'].fillna(df['Poverty'].median(), inplace=True)\n",
        "df['Linguistic Isolation'].fillna(df['Linguistic Isolation'].mean(), inplace=True)\n",
        "df['Linguistic Isolation Pctl'].fillna(df['Linguistic Isolation Pctl'].median(), inplace=True)\n",
        "df.info()"
      ],
      "metadata": {
        "colab": {
          "base_uri": "https://localhost:8080/"
        },
        "id": "-HcWmB5UeeEs",
        "outputId": "7a6daa3c-b418-4f67-9ec3-da53cf89eb4c"
      },
      "execution_count": null,
      "outputs": [
        {
          "output_type": "stream",
          "name": "stdout",
          "text": [
            "<class 'pandas.core.frame.DataFrame'>\n",
            "Int64Index: 7813 entries, 0 to 8000\n",
            "Data columns (total 14 columns):\n",
            " #   Column                       Non-Null Count  Dtype  \n",
            "---  ------                       --------------  -----  \n",
            " 0   Total Population             7813 non-null   int64  \n",
            " 1   Ozone                        7813 non-null   float64\n",
            " 2   Solid Waste Pctl             7813 non-null   float64\n",
            " 3   Asthma                       7813 non-null   float64\n",
            " 4   Asthma Pctl                  7813 non-null   float64\n",
            " 5   Low Birth Weight             7813 non-null   float64\n",
            " 6   Low Birth Weight Pctl        7813 non-null   float64\n",
            " 7   Cardiovascular Disease       7813 non-null   float64\n",
            " 8   Cardiovascular Disease Pctl  7813 non-null   float64\n",
            " 9   Education                    7813 non-null   float64\n",
            " 10  Education Pctl               7813 non-null   float64\n",
            " 11  Linguistic Isolation         7813 non-null   float64\n",
            " 12  Linguistic Isolation Pctl    7813 non-null   float64\n",
            " 13  Poverty                      7813 non-null   float64\n",
            "dtypes: float64(13), int64(1)\n",
            "memory usage: 915.6 KB\n"
          ]
        }
      ]
    },
    {
      "cell_type": "code",
      "source": [
        "df.isnull().sum().sum()# there are no missing values"
      ],
      "metadata": {
        "colab": {
          "base_uri": "https://localhost:8080/"
        },
        "id": "6Cb4ixxYfSMm",
        "outputId": "f170cdbe-2492-47d1-ac4a-1602a1ee51fa"
      },
      "execution_count": null,
      "outputs": [
        {
          "output_type": "execute_result",
          "data": {
            "text/plain": [
              "0"
            ]
          },
          "metadata": {},
          "execution_count": 18
        }
      ]
    },
    {
      "cell_type": "code",
      "source": [
        "#recode target variable\n",
        "mean_poverty= df['Poverty'].mean()\n",
        "df[\"poverty_recode\"]= (df['Poverty'] > mean_poverty).astype(int)\n",
        "print(mean_poverty)#verify\n",
        "df.head(10)"
      ],
      "metadata": {
        "colab": {
          "base_uri": "https://localhost:8080/",
          "height": 432
        },
        "id": "dbDzRVwQmQdF",
        "outputId": "77f379e2-f23c-42bb-a8d0-220ef2924247"
      },
      "execution_count": null,
      "outputs": [
        {
          "output_type": "stream",
          "name": "stdout",
          "text": [
            "36.377243056444385\n"
          ]
        },
        {
          "output_type": "execute_result",
          "data": {
            "text/plain": [
              "   Total Population     Ozone  Solid Waste Pctl  Asthma  Asthma Pctl  \\\n",
              "0              3174  0.064889         97.807121  131.64    97.668620   \n",
              "1              6133  0.062163         92.171658   60.66    69.779329   \n",
              "2              3167  0.062163         57.179910  142.12    98.329385   \n",
              "3              6692  0.046178         99.103985  142.17    98.341853   \n",
              "4              2206  0.064889         99.905683   90.48    89.539958   \n",
              "5              2598  0.046178         65.668474   68.74    77.633712   \n",
              "6              2396  0.046178         52.982787  169.56    99.364169   \n",
              "7              4106  0.064889         89.460033  142.28    98.416656   \n",
              "8              2146  0.046178         98.019335   58.03    66.525371   \n",
              "9              6343  0.064889         20.490450  107.80    94.227652   \n",
              "\n",
              "   Low Birth Weight  Low Birth Weight Pctl  Cardiovascular Disease  \\\n",
              "0              7.44              93.835704                   14.13   \n",
              "1              7.04              90.849673                   12.94   \n",
              "2             10.16              99.782135                   14.96   \n",
              "3              6.23              80.648469                   14.72   \n",
              "4              4.50              38.920928                   12.82   \n",
              "5              7.35              93.207741                   10.40   \n",
              "6              8.36              97.859798                   12.70   \n",
              "7              7.83              95.911829                   14.96   \n",
              "8              6.71              87.504806                    7.24   \n",
              "9              4.79              46.469307                   14.75   \n",
              "\n",
              "   Cardiovascular Disease Pctl  Education  Education Pctl  \\\n",
              "0                    96.309687       53.3       95.760787   \n",
              "1                    92.656776       53.3       95.760787   \n",
              "2                    97.668620       42.3       89.061317   \n",
              "3                    97.169929       40.8       87.522079   \n",
              "4                    92.357561       45.1       91.130457   \n",
              "5                    77.621244       53.1       95.672470   \n",
              "6                    91.684329       46.0       91.723442   \n",
              "7                    97.668620       47.4       92.581378   \n",
              "8                    40.556040       50.4       94.360333   \n",
              "9                    97.257200       52.5       95.319203   \n",
              "\n",
              "   Linguistic Isolation  Linguistic Isolation Pctl  Poverty  poverty_recode  \n",
              "0                  16.2                  77.509665     76.3               1  \n",
              "1                  33.4                  96.253833     72.5               1  \n",
              "2                  16.7                  78.389548     86.8               1  \n",
              "3                  15.3                  75.136648     61.3               1  \n",
              "4                  14.7                  73.723504     66.4               1  \n",
              "5                  23.7                  89.148114     66.4               1  \n",
              "6                  27.1                  92.401013     76.2               1  \n",
              "7                  15.8                  76.576456     74.5               1  \n",
              "8                  35.7                  97.120384     75.7               1  \n",
              "9                  13.7                  71.350487     83.4               1  "
            ],
            "text/html": [
              "\n",
              "  <div id=\"df-e27ef06d-a535-451c-a26b-3feba0e124b0\" class=\"colab-df-container\">\n",
              "    <div>\n",
              "<style scoped>\n",
              "    .dataframe tbody tr th:only-of-type {\n",
              "        vertical-align: middle;\n",
              "    }\n",
              "\n",
              "    .dataframe tbody tr th {\n",
              "        vertical-align: top;\n",
              "    }\n",
              "\n",
              "    .dataframe thead th {\n",
              "        text-align: right;\n",
              "    }\n",
              "</style>\n",
              "<table border=\"1\" class=\"dataframe\">\n",
              "  <thead>\n",
              "    <tr style=\"text-align: right;\">\n",
              "      <th></th>\n",
              "      <th>Total Population</th>\n",
              "      <th>Ozone</th>\n",
              "      <th>Solid Waste Pctl</th>\n",
              "      <th>Asthma</th>\n",
              "      <th>Asthma Pctl</th>\n",
              "      <th>Low Birth Weight</th>\n",
              "      <th>Low Birth Weight Pctl</th>\n",
              "      <th>Cardiovascular Disease</th>\n",
              "      <th>Cardiovascular Disease Pctl</th>\n",
              "      <th>Education</th>\n",
              "      <th>Education Pctl</th>\n",
              "      <th>Linguistic Isolation</th>\n",
              "      <th>Linguistic Isolation Pctl</th>\n",
              "      <th>Poverty</th>\n",
              "      <th>poverty_recode</th>\n",
              "    </tr>\n",
              "  </thead>\n",
              "  <tbody>\n",
              "    <tr>\n",
              "      <th>0</th>\n",
              "      <td>3174</td>\n",
              "      <td>0.064889</td>\n",
              "      <td>97.807121</td>\n",
              "      <td>131.64</td>\n",
              "      <td>97.668620</td>\n",
              "      <td>7.44</td>\n",
              "      <td>93.835704</td>\n",
              "      <td>14.13</td>\n",
              "      <td>96.309687</td>\n",
              "      <td>53.3</td>\n",
              "      <td>95.760787</td>\n",
              "      <td>16.2</td>\n",
              "      <td>77.509665</td>\n",
              "      <td>76.3</td>\n",
              "      <td>1</td>\n",
              "    </tr>\n",
              "    <tr>\n",
              "      <th>1</th>\n",
              "      <td>6133</td>\n",
              "      <td>0.062163</td>\n",
              "      <td>92.171658</td>\n",
              "      <td>60.66</td>\n",
              "      <td>69.779329</td>\n",
              "      <td>7.04</td>\n",
              "      <td>90.849673</td>\n",
              "      <td>12.94</td>\n",
              "      <td>92.656776</td>\n",
              "      <td>53.3</td>\n",
              "      <td>95.760787</td>\n",
              "      <td>33.4</td>\n",
              "      <td>96.253833</td>\n",
              "      <td>72.5</td>\n",
              "      <td>1</td>\n",
              "    </tr>\n",
              "    <tr>\n",
              "      <th>2</th>\n",
              "      <td>3167</td>\n",
              "      <td>0.062163</td>\n",
              "      <td>57.179910</td>\n",
              "      <td>142.12</td>\n",
              "      <td>98.329385</td>\n",
              "      <td>10.16</td>\n",
              "      <td>99.782135</td>\n",
              "      <td>14.96</td>\n",
              "      <td>97.668620</td>\n",
              "      <td>42.3</td>\n",
              "      <td>89.061317</td>\n",
              "      <td>16.7</td>\n",
              "      <td>78.389548</td>\n",
              "      <td>86.8</td>\n",
              "      <td>1</td>\n",
              "    </tr>\n",
              "    <tr>\n",
              "      <th>3</th>\n",
              "      <td>6692</td>\n",
              "      <td>0.046178</td>\n",
              "      <td>99.103985</td>\n",
              "      <td>142.17</td>\n",
              "      <td>98.341853</td>\n",
              "      <td>6.23</td>\n",
              "      <td>80.648469</td>\n",
              "      <td>14.72</td>\n",
              "      <td>97.169929</td>\n",
              "      <td>40.8</td>\n",
              "      <td>87.522079</td>\n",
              "      <td>15.3</td>\n",
              "      <td>75.136648</td>\n",
              "      <td>61.3</td>\n",
              "      <td>1</td>\n",
              "    </tr>\n",
              "    <tr>\n",
              "      <th>4</th>\n",
              "      <td>2206</td>\n",
              "      <td>0.064889</td>\n",
              "      <td>99.905683</td>\n",
              "      <td>90.48</td>\n",
              "      <td>89.539958</td>\n",
              "      <td>4.50</td>\n",
              "      <td>38.920928</td>\n",
              "      <td>12.82</td>\n",
              "      <td>92.357561</td>\n",
              "      <td>45.1</td>\n",
              "      <td>91.130457</td>\n",
              "      <td>14.7</td>\n",
              "      <td>73.723504</td>\n",
              "      <td>66.4</td>\n",
              "      <td>1</td>\n",
              "    </tr>\n",
              "    <tr>\n",
              "      <th>5</th>\n",
              "      <td>2598</td>\n",
              "      <td>0.046178</td>\n",
              "      <td>65.668474</td>\n",
              "      <td>68.74</td>\n",
              "      <td>77.633712</td>\n",
              "      <td>7.35</td>\n",
              "      <td>93.207741</td>\n",
              "      <td>10.40</td>\n",
              "      <td>77.621244</td>\n",
              "      <td>53.1</td>\n",
              "      <td>95.672470</td>\n",
              "      <td>23.7</td>\n",
              "      <td>89.148114</td>\n",
              "      <td>66.4</td>\n",
              "      <td>1</td>\n",
              "    </tr>\n",
              "    <tr>\n",
              "      <th>6</th>\n",
              "      <td>2396</td>\n",
              "      <td>0.046178</td>\n",
              "      <td>52.982787</td>\n",
              "      <td>169.56</td>\n",
              "      <td>99.364169</td>\n",
              "      <td>8.36</td>\n",
              "      <td>97.859798</td>\n",
              "      <td>12.70</td>\n",
              "      <td>91.684329</td>\n",
              "      <td>46.0</td>\n",
              "      <td>91.723442</td>\n",
              "      <td>27.1</td>\n",
              "      <td>92.401013</td>\n",
              "      <td>76.2</td>\n",
              "      <td>1</td>\n",
              "    </tr>\n",
              "    <tr>\n",
              "      <th>7</th>\n",
              "      <td>4106</td>\n",
              "      <td>0.064889</td>\n",
              "      <td>89.460033</td>\n",
              "      <td>142.28</td>\n",
              "      <td>98.416656</td>\n",
              "      <td>7.83</td>\n",
              "      <td>95.911829</td>\n",
              "      <td>14.96</td>\n",
              "      <td>97.668620</td>\n",
              "      <td>47.4</td>\n",
              "      <td>92.581378</td>\n",
              "      <td>15.8</td>\n",
              "      <td>76.576456</td>\n",
              "      <td>74.5</td>\n",
              "      <td>1</td>\n",
              "    </tr>\n",
              "    <tr>\n",
              "      <th>8</th>\n",
              "      <td>2146</td>\n",
              "      <td>0.046178</td>\n",
              "      <td>98.019335</td>\n",
              "      <td>58.03</td>\n",
              "      <td>66.525371</td>\n",
              "      <td>6.71</td>\n",
              "      <td>87.504806</td>\n",
              "      <td>7.24</td>\n",
              "      <td>40.556040</td>\n",
              "      <td>50.4</td>\n",
              "      <td>94.360333</td>\n",
              "      <td>35.7</td>\n",
              "      <td>97.120384</td>\n",
              "      <td>75.7</td>\n",
              "      <td>1</td>\n",
              "    </tr>\n",
              "    <tr>\n",
              "      <th>9</th>\n",
              "      <td>6343</td>\n",
              "      <td>0.064889</td>\n",
              "      <td>20.490450</td>\n",
              "      <td>107.80</td>\n",
              "      <td>94.227652</td>\n",
              "      <td>4.79</td>\n",
              "      <td>46.469307</td>\n",
              "      <td>14.75</td>\n",
              "      <td>97.257200</td>\n",
              "      <td>52.5</td>\n",
              "      <td>95.319203</td>\n",
              "      <td>13.7</td>\n",
              "      <td>71.350487</td>\n",
              "      <td>83.4</td>\n",
              "      <td>1</td>\n",
              "    </tr>\n",
              "  </tbody>\n",
              "</table>\n",
              "</div>\n",
              "    <div class=\"colab-df-buttons\">\n",
              "\n",
              "  <div class=\"colab-df-container\">\n",
              "    <button class=\"colab-df-convert\" onclick=\"convertToInteractive('df-e27ef06d-a535-451c-a26b-3feba0e124b0')\"\n",
              "            title=\"Convert this dataframe to an interactive table.\"\n",
              "            style=\"display:none;\">\n",
              "\n",
              "  <svg xmlns=\"http://www.w3.org/2000/svg\" height=\"24px\" viewBox=\"0 -960 960 960\">\n",
              "    <path d=\"M120-120v-720h720v720H120Zm60-500h600v-160H180v160Zm220 220h160v-160H400v160Zm0 220h160v-160H400v160ZM180-400h160v-160H180v160Zm440 0h160v-160H620v160ZM180-180h160v-160H180v160Zm440 0h160v-160H620v160Z\"/>\n",
              "  </svg>\n",
              "    </button>\n",
              "\n",
              "  <style>\n",
              "    .colab-df-container {\n",
              "      display:flex;\n",
              "      gap: 12px;\n",
              "    }\n",
              "\n",
              "    .colab-df-convert {\n",
              "      background-color: #E8F0FE;\n",
              "      border: none;\n",
              "      border-radius: 50%;\n",
              "      cursor: pointer;\n",
              "      display: none;\n",
              "      fill: #1967D2;\n",
              "      height: 32px;\n",
              "      padding: 0 0 0 0;\n",
              "      width: 32px;\n",
              "    }\n",
              "\n",
              "    .colab-df-convert:hover {\n",
              "      background-color: #E2EBFA;\n",
              "      box-shadow: 0px 1px 2px rgba(60, 64, 67, 0.3), 0px 1px 3px 1px rgba(60, 64, 67, 0.15);\n",
              "      fill: #174EA6;\n",
              "    }\n",
              "\n",
              "    .colab-df-buttons div {\n",
              "      margin-bottom: 4px;\n",
              "    }\n",
              "\n",
              "    [theme=dark] .colab-df-convert {\n",
              "      background-color: #3B4455;\n",
              "      fill: #D2E3FC;\n",
              "    }\n",
              "\n",
              "    [theme=dark] .colab-df-convert:hover {\n",
              "      background-color: #434B5C;\n",
              "      box-shadow: 0px 1px 3px 1px rgba(0, 0, 0, 0.15);\n",
              "      filter: drop-shadow(0px 1px 2px rgba(0, 0, 0, 0.3));\n",
              "      fill: #FFFFFF;\n",
              "    }\n",
              "  </style>\n",
              "\n",
              "    <script>\n",
              "      const buttonEl =\n",
              "        document.querySelector('#df-e27ef06d-a535-451c-a26b-3feba0e124b0 button.colab-df-convert');\n",
              "      buttonEl.style.display =\n",
              "        google.colab.kernel.accessAllowed ? 'block' : 'none';\n",
              "\n",
              "      async function convertToInteractive(key) {\n",
              "        const element = document.querySelector('#df-e27ef06d-a535-451c-a26b-3feba0e124b0');\n",
              "        const dataTable =\n",
              "          await google.colab.kernel.invokeFunction('convertToInteractive',\n",
              "                                                    [key], {});\n",
              "        if (!dataTable) return;\n",
              "\n",
              "        const docLinkHtml = 'Like what you see? Visit the ' +\n",
              "          '<a target=\"_blank\" href=https://colab.research.google.com/notebooks/data_table.ipynb>data table notebook</a>'\n",
              "          + ' to learn more about interactive tables.';\n",
              "        element.innerHTML = '';\n",
              "        dataTable['output_type'] = 'display_data';\n",
              "        await google.colab.output.renderOutput(dataTable, element);\n",
              "        const docLink = document.createElement('div');\n",
              "        docLink.innerHTML = docLinkHtml;\n",
              "        element.appendChild(docLink);\n",
              "      }\n",
              "    </script>\n",
              "  </div>\n",
              "\n",
              "\n",
              "<div id=\"df-c9bcd0c6-6260-4500-aa2f-78a8a5b79070\">\n",
              "  <button class=\"colab-df-quickchart\" onclick=\"quickchart('df-c9bcd0c6-6260-4500-aa2f-78a8a5b79070')\"\n",
              "            title=\"Suggest charts\"\n",
              "            style=\"display:none;\">\n",
              "\n",
              "<svg xmlns=\"http://www.w3.org/2000/svg\" height=\"24px\"viewBox=\"0 0 24 24\"\n",
              "     width=\"24px\">\n",
              "    <g>\n",
              "        <path d=\"M19 3H5c-1.1 0-2 .9-2 2v14c0 1.1.9 2 2 2h14c1.1 0 2-.9 2-2V5c0-1.1-.9-2-2-2zM9 17H7v-7h2v7zm4 0h-2V7h2v10zm4 0h-2v-4h2v4z\"/>\n",
              "    </g>\n",
              "</svg>\n",
              "  </button>\n",
              "\n",
              "<style>\n",
              "  .colab-df-quickchart {\n",
              "      --bg-color: #E8F0FE;\n",
              "      --fill-color: #1967D2;\n",
              "      --hover-bg-color: #E2EBFA;\n",
              "      --hover-fill-color: #174EA6;\n",
              "      --disabled-fill-color: #AAA;\n",
              "      --disabled-bg-color: #DDD;\n",
              "  }\n",
              "\n",
              "  [theme=dark] .colab-df-quickchart {\n",
              "      --bg-color: #3B4455;\n",
              "      --fill-color: #D2E3FC;\n",
              "      --hover-bg-color: #434B5C;\n",
              "      --hover-fill-color: #FFFFFF;\n",
              "      --disabled-bg-color: #3B4455;\n",
              "      --disabled-fill-color: #666;\n",
              "  }\n",
              "\n",
              "  .colab-df-quickchart {\n",
              "    background-color: var(--bg-color);\n",
              "    border: none;\n",
              "    border-radius: 50%;\n",
              "    cursor: pointer;\n",
              "    display: none;\n",
              "    fill: var(--fill-color);\n",
              "    height: 32px;\n",
              "    padding: 0;\n",
              "    width: 32px;\n",
              "  }\n",
              "\n",
              "  .colab-df-quickchart:hover {\n",
              "    background-color: var(--hover-bg-color);\n",
              "    box-shadow: 0 1px 2px rgba(60, 64, 67, 0.3), 0 1px 3px 1px rgba(60, 64, 67, 0.15);\n",
              "    fill: var(--button-hover-fill-color);\n",
              "  }\n",
              "\n",
              "  .colab-df-quickchart-complete:disabled,\n",
              "  .colab-df-quickchart-complete:disabled:hover {\n",
              "    background-color: var(--disabled-bg-color);\n",
              "    fill: var(--disabled-fill-color);\n",
              "    box-shadow: none;\n",
              "  }\n",
              "\n",
              "  .colab-df-spinner {\n",
              "    border: 2px solid var(--fill-color);\n",
              "    border-color: transparent;\n",
              "    border-bottom-color: var(--fill-color);\n",
              "    animation:\n",
              "      spin 1s steps(1) infinite;\n",
              "  }\n",
              "\n",
              "  @keyframes spin {\n",
              "    0% {\n",
              "      border-color: transparent;\n",
              "      border-bottom-color: var(--fill-color);\n",
              "      border-left-color: var(--fill-color);\n",
              "    }\n",
              "    20% {\n",
              "      border-color: transparent;\n",
              "      border-left-color: var(--fill-color);\n",
              "      border-top-color: var(--fill-color);\n",
              "    }\n",
              "    30% {\n",
              "      border-color: transparent;\n",
              "      border-left-color: var(--fill-color);\n",
              "      border-top-color: var(--fill-color);\n",
              "      border-right-color: var(--fill-color);\n",
              "    }\n",
              "    40% {\n",
              "      border-color: transparent;\n",
              "      border-right-color: var(--fill-color);\n",
              "      border-top-color: var(--fill-color);\n",
              "    }\n",
              "    60% {\n",
              "      border-color: transparent;\n",
              "      border-right-color: var(--fill-color);\n",
              "    }\n",
              "    80% {\n",
              "      border-color: transparent;\n",
              "      border-right-color: var(--fill-color);\n",
              "      border-bottom-color: var(--fill-color);\n",
              "    }\n",
              "    90% {\n",
              "      border-color: transparent;\n",
              "      border-bottom-color: var(--fill-color);\n",
              "    }\n",
              "  }\n",
              "</style>\n",
              "\n",
              "  <script>\n",
              "    async function quickchart(key) {\n",
              "      const quickchartButtonEl =\n",
              "        document.querySelector('#' + key + ' button');\n",
              "      quickchartButtonEl.disabled = true;  // To prevent multiple clicks.\n",
              "      quickchartButtonEl.classList.add('colab-df-spinner');\n",
              "      try {\n",
              "        const charts = await google.colab.kernel.invokeFunction(\n",
              "            'suggestCharts', [key], {});\n",
              "      } catch (error) {\n",
              "        console.error('Error during call to suggestCharts:', error);\n",
              "      }\n",
              "      quickchartButtonEl.classList.remove('colab-df-spinner');\n",
              "      quickchartButtonEl.classList.add('colab-df-quickchart-complete');\n",
              "    }\n",
              "    (() => {\n",
              "      let quickchartButtonEl =\n",
              "        document.querySelector('#df-c9bcd0c6-6260-4500-aa2f-78a8a5b79070 button');\n",
              "      quickchartButtonEl.style.display =\n",
              "        google.colab.kernel.accessAllowed ? 'block' : 'none';\n",
              "    })();\n",
              "  </script>\n",
              "</div>\n",
              "    </div>\n",
              "  </div>\n"
            ],
            "application/vnd.google.colaboratory.intrinsic+json": {
              "type": "dataframe",
              "variable_name": "df",
              "summary": "{\n  \"name\": \"df\",\n  \"rows\": 7813,\n  \"fields\": [\n    {\n      \"column\": \"Total Population\",\n      \"properties\": {\n        \"dtype\": \"number\",\n        \"std\": 1915,\n        \"min\": 33,\n        \"max\": 37452,\n        \"samples\": [\n          2709,\n          6180,\n          4874\n        ],\n        \"num_unique_values\": 4476,\n        \"semantic_type\": \"\",\n        \"description\": \"\"\n      }\n    },\n    {\n      \"column\": \"Ozone\",\n      \"properties\": {\n        \"dtype\": \"number\",\n        \"std\": 0.010274726576671674,\n        \"min\": 0.026420937,\n        \"max\": 0.067828605,\n        \"samples\": [\n          0.064888548,\n          0.042298794,\n          0.047908481\n        ],\n        \"num_unique_values\": 19,\n        \"semantic_type\": \"\",\n        \"description\": \"\"\n      }\n    },\n    {\n      \"column\": \"Solid Waste Pctl\",\n      \"properties\": {\n        \"dtype\": \"number\",\n        \"std\": 32.633931745829855,\n        \"min\": 0.0,\n        \"max\": 100.0,\n        \"samples\": [\n          92.9261966517331,\n          91.0398490921952,\n          59.1369959915114\n        ],\n        \"num_unique_values\": 339,\n        \"semantic_type\": \"\",\n        \"description\": \"\"\n      }\n    },\n    {\n      \"column\": \"Asthma\",\n      \"properties\": {\n        \"dtype\": \"number\",\n        \"std\": 30.290901617320213,\n        \"min\": 3.63,\n        \"max\": 223.3,\n        \"samples\": [\n          55.75,\n          50.82,\n          115.63\n        ],\n        \"num_unique_values\": 4239,\n        \"semantic_type\": \"\",\n        \"description\": \"\"\n      }\n    },\n    {\n      \"column\": \"Asthma Pctl\",\n      \"properties\": {\n        \"dtype\": \"number\",\n        \"std\": 28.74086086330592,\n        \"min\": 0.0249345468146116,\n        \"max\": 99.9750654531854,\n        \"samples\": [\n          63.8573743922204,\n          57.3245231267922,\n          95.7735943149233\n        ],\n        \"num_unique_values\": 4239,\n        \"semantic_type\": \"\",\n        \"description\": \"\"\n      }\n    },\n    {\n      \"column\": \"Low Birth Weight\",\n      \"properties\": {\n        \"dtype\": \"number\",\n        \"std\": 1.55135187570611,\n        \"min\": 0.0,\n        \"max\": 14.89,\n        \"samples\": [\n          3.13,\n          7.5,\n          6.29\n        ],\n        \"num_unique_values\": 821,\n        \"semantic_type\": \"\",\n        \"description\": \"\"\n      }\n    },\n    {\n      \"column\": \"Low Birth Weight Pctl\",\n      \"properties\": {\n        \"dtype\": \"number\",\n        \"std\": 28.902252498844202,\n        \"min\": 0.0,\n        \"max\": 100.0,\n        \"samples\": [\n          10.636934512367,\n          94.2458028963219,\n          81.8018710752275\n        ],\n        \"num_unique_values\": 821,\n        \"semantic_type\": \"\",\n        \"description\": \"\"\n      }\n    },\n    {\n      \"column\": \"Cardiovascular Disease\",\n      \"properties\": {\n        \"dtype\": \"number\",\n        \"std\": 2.933163727835791,\n        \"min\": 1.56,\n        \"max\": 21.26,\n        \"samples\": [\n          3.5,\n          11.44,\n          5.95\n        ],\n        \"num_unique_values\": 1227,\n        \"semantic_type\": \"\",\n        \"description\": \"\"\n      }\n    },\n    {\n      \"column\": \"Cardiovascular Disease Pctl\",\n      \"properties\": {\n        \"dtype\": \"number\",\n        \"std\": 28.755431242042878,\n        \"min\": 0.0748036404438349,\n        \"max\": 100.0,\n        \"samples\": [\n          1.99476374516893,\n          85.5130283007106,\n          23.1891285375888\n        ],\n        \"num_unique_values\": 1227,\n        \"semantic_type\": \"\",\n        \"description\": \"\"\n      }\n    },\n    {\n      \"column\": \"Education\",\n      \"properties\": {\n        \"dtype\": \"number\",\n        \"std\": 15.933100528603608,\n        \"min\": 0.0,\n        \"max\": 80.0,\n        \"samples\": [\n          19.4,\n          29.6,\n          0.200000000000003\n        ],\n        \"num_unique_values\": 675,\n        \"semantic_type\": \"\",\n        \"description\": \"\"\n      }\n    },\n    {\n      \"column\": \"Education Pctl\",\n      \"properties\": {\n        \"dtype\": \"number\",\n        \"std\": 28.74523416016643,\n        \"min\": 0.0,\n        \"max\": 100.0,\n        \"samples\": [\n          53.3434266969468,\n          76.0913449407015,\n          30.8730759525612\n        ],\n        \"num_unique_values\": 674,\n        \"semantic_type\": \"\",\n        \"description\": \"\"\n      }\n    },\n    {\n      \"column\": \"Linguistic Isolation\",\n      \"properties\": {\n        \"dtype\": \"number\",\n        \"std\": 9.898981961634046,\n        \"min\": 0.0,\n        \"max\": 72.3,\n        \"samples\": [\n          44.8,\n          0.2,\n          28.6\n        ],\n        \"num_unique_values\": 482,\n        \"semantic_type\": \"\",\n        \"description\": \"\"\n      }\n    },\n    {\n      \"column\": \"Linguistic Isolation Pctl\",\n      \"properties\": {\n        \"dtype\": \"number\",\n        \"std\": 29.45999798361738,\n        \"min\": 0.0,\n        \"max\": 100.0,\n        \"samples\": [\n          58.6455139314758,\n          99.0001333155579,\n          14.8780162644981\n        ],\n        \"num_unique_values\": 481,\n        \"semantic_type\": \"\",\n        \"description\": \"\"\n      }\n    },\n    {\n      \"column\": \"Poverty\",\n      \"properties\": {\n        \"dtype\": \"number\",\n        \"std\": 20.249115946059423,\n        \"min\": 1.0,\n        \"max\": 94.9,\n        \"samples\": [\n          54.3,\n          44.0,\n          27.9\n        ],\n        \"num_unique_values\": 846,\n        \"semantic_type\": \"\",\n        \"description\": \"\"\n      }\n    },\n    {\n      \"column\": \"poverty_recode\",\n      \"properties\": {\n        \"dtype\": \"number\",\n        \"std\": 0,\n        \"min\": 0,\n        \"max\": 1,\n        \"samples\": [\n          0,\n          1\n        ],\n        \"num_unique_values\": 2,\n        \"semantic_type\": \"\",\n        \"description\": \"\"\n      }\n    }\n  ]\n}"
            }
          },
          "metadata": {},
          "execution_count": 19
        }
      ]
    },
    {
      "cell_type": "code",
      "source": [
        "#exploring relation of poverty to Education\n",
        "fig, ax = plt.subplots(figsize=(8, 6))\n",
        "\n",
        "\n",
        "ax.scatter(df['Education'], df['Poverty'], color='blue', label='Data points')\n",
        "ax.set_xlabel('Education', fontsize=14)\n",
        "ax.set_ylabel('Poverty', fontsize=14)\n",
        "ax.set_title('Relation of Education vs Poverty', fontsize=16)\n",
        "ax.legend()\n",
        "plt.show()"
      ],
      "metadata": {
        "colab": {
          "base_uri": "https://localhost:8080/",
          "height": 571
        },
        "id": "C-7Re4zjmTrk",
        "outputId": "a7c8fa1e-b80c-4ecd-96bc-15a5c71a2e2d"
      },
      "execution_count": null,
      "outputs": [
        {
          "output_type": "display_data",
          "data": {
            "text/plain": [
              "<Figure size 800x600 with 1 Axes>"
            ],
            "image/png": "[encoded data removed]"
          },
          "metadata": {}
        }
      ]
    },
    {
      "cell_type": "markdown",
      "source": [
        "low values of education has more people which starts to become less dense when education score is more than 50. This could mean less access to high earning opportunities due to lack of education beyond a certain threshold\n"
      ],
      "metadata": {
        "id": "1_LJHiO2rOj7"
      }
    },
    {
      "cell_type": "code",
      "source": [
        "#exploring effect  of poverty to possible health conditions\n",
        "import seaborn as sns\n",
        "\n",
        "# Specify the columns for the heatmap\n",
        "columns = ['Asthma', 'Low Birth Weight', 'Cardiovascular Disease', 'Linguistic Isolation']\n",
        "\n",
        "# Calculate the correlation matrix\n",
        "correlation_matrix = df[columns].corr()\n",
        "\n",
        "# Create the heatmap\n",
        "plt.figure(figsize=(5, 5))\n",
        "sns.heatmap(correlation_matrix, annot=True, cmap='coolwarm', fmt=\".2f\")\n",
        "plt.title('Correlation Heatmap of  poverty to serious health issues', fontsize=16)\n",
        "plt.show()\n"
      ],
      "metadata": {
        "colab": {
          "base_uri": "https://localhost:8080/",
          "height": 618
        },
        "id": "KSpPIJxWruEj",
        "outputId": "38a64737-2fce-4c09-ba41-8999d16580dd"
      },
      "execution_count": null,
      "outputs": [
        {
          "output_type": "display_data",
          "data": {
            "text/plain": [
              "<Figure size 500x500 with 2 Axes>"
            ],
            "image/png": "[encoded data removed]"
          },
          "metadata": {}
        }
      ]
    },
    {
      "cell_type": "code",
      "source": [
        "# split into X and Y\n",
        "Y = df['poverty_recode']\n",
        "X = df.drop(['poverty_recode'], axis=1)\n",
        "print(X.shape)\n",
        "print(Y.shape)"
      ],
      "metadata": {
        "colab": {
          "base_uri": "https://localhost:8080/"
        },
        "id": "NuDATPS6xKC8",
        "outputId": "7843951a-a0bd-4e5c-87ec-9459084b42b6"
      },
      "execution_count": null,
      "outputs": [
        {
          "output_type": "stream",
          "name": "stdout",
          "text": [
            "(7813, 14)\n",
            "(7813,)\n"
          ]
        }
      ]
    },
    {
      "cell_type": "code",
      "source": [
        "X= np.array(X)#convert into array for better model performance\n",
        "Y= np.array(Y)"
      ],
      "metadata": {
        "id": "IReXmol9xz_8"
      },
      "execution_count": null,
      "outputs": []
    },
    {
      "cell_type": "code",
      "source": [
        "x_train,x_test,y_train,y_test= train_test_split(X,Y,test_size=0.1,random_state=3010566)#split data set and check shape. Student Id= 3010566\n",
        "print(x_train.shape,x_test.shape,y_train.shape,y_test.shape)"
      ],
      "metadata": {
        "colab": {
          "base_uri": "https://localhost:8080/"
        },
        "id": "-aAErk9QydLO",
        "outputId": "e39e7386-ec45-4f64-a378-1f20a2c34a3b"
      },
      "execution_count": null,
      "outputs": [
        {
          "output_type": "stream",
          "name": "stdout",
          "text": [
            "(7031, 14) (782, 14) (7031,) (782,)\n"
          ]
        }
      ]
    },
    {
      "cell_type": "code",
      "source": [
        "#Standard scaler to ensure equal contribution of factors not biased on units or scales\n",
        "from sklearn.preprocessing import MinMaxScaler\n",
        "min_max_scaler = MinMaxScaler()\n",
        "x_train = min_max_scaler.fit_transform(x_train)\n",
        "x_test = min_max_scaler.transform(x_test)"
      ],
      "metadata": {
        "id": "Jw79oGz6yyov"
      },
      "execution_count": null,
      "outputs": []
    },
    {
      "cell_type": "code",
      "source": [
        "#model building with dense layers and two dropout\n",
        "model = Sequential()\n",
        "model.add(Dense(16, input_shape=(x_train.shape[1],), activation='relu'))\n",
        "model.add(Dropout(0.3))\n",
        "model.add(Dense(16, activation='relu'))\n",
        "model.add(Dropout(0.4))\n",
        "model.add(Dense(8, activation='relu'))\n",
        "model.add(Dropout(0.2))\n",
        "model.add(Dense(1, activation='sigmoid'))\n",
        "model.summary()"
      ],
      "metadata": {
        "colab": {
          "base_uri": "https://localhost:8080/"
        },
        "id": "hS2_5lmHzeYP",
        "outputId": "f473b469-507c-4395-9b3e-0650ada3b2c3"
      },
      "execution_count": null,
      "outputs": [
        {
          "output_type": "stream",
          "name": "stdout",
          "text": [
            "Model: \"sequential\"\n",
            "_________________________________________________________________\n",
            " Layer (type)                Output Shape              Param #   \n",
            "=================================================================\n",
            " dense (Dense)               (None, 16)                240       \n",
            "                                                                 \n",
            " dropout (Dropout)           (None, 16)                0         \n",
            "                                                                 \n",
            " dense_1 (Dense)             (None, 16)                272       \n",
            "                                                                 \n",
            " dropout_1 (Dropout)         (None, 16)                0         \n",
            "                                                                 \n",
            " dense_2 (Dense)             (None, 8)                 136       \n",
            "                                                                 \n",
            " dropout_2 (Dropout)         (None, 8)                 0         \n",
            "                                                                 \n",
            " dense_3 (Dense)             (None, 1)                 9         \n",
            "                                                                 \n",
            "=================================================================\n",
            "Total params: 657 (2.57 KB)\n",
            "Trainable params: 657 (2.57 KB)\n",
            "Non-trainable params: 0 (0.00 Byte)\n",
            "_________________________________________________________________\n"
          ]
        }
      ]
    },
    {
      "cell_type": "code",
      "source": [
        "# compile the model\n",
        "model.compile(optimizer='Adam',\n",
        "              loss='binary_crossentropy',\n",
        "              metrics=['accuracy'])"
      ],
      "metadata": {
        "id": "P9BxX2Vg1YSU"
      },
      "execution_count": null,
      "outputs": []
    },
    {
      "cell_type": "code",
      "source": [
        "#define early stopping callback with a patience greater than 10 and restore best weights if model converges\n",
        "es = EarlyStopping(monitor='val_accuracy',\n",
        "                                   mode='max',\n",
        "                                   patience=20,\n",
        "                                   restore_best_weights=True)\n",
        "\n",
        "#compiling model with appropriate epochs and batch size\n",
        "history = model.fit(x_train,\n",
        "                    y_train,\n",
        "                    validation_data = (x_test, y_test),\n",
        "                    callbacks=[es],\n",
        "                    epochs=100000,\n",
        "                    batch_size=20,\n",
        "                    validation_split=0.2,\n",
        "                    shuffle=True,\n",
        "                    verbose=1)"
      ],
      "metadata": {
        "colab": {
          "base_uri": "https://localhost:8080/"
        },
        "id": "dnyawlej23K4",
        "outputId": "7c264d72-13ad-444f-a304-255687dd8d72"
      },
      "execution_count": null,
      "outputs": [
        {
          "output_type": "stream",
          "name": "stdout",
          "text": [
            "Epoch 1/100000\n",
            "352/352 [==============================] - 2s 3ms/step - loss: 0.6183 - accuracy: 0.6663 - val_loss: 0.4522 - val_accuracy: 0.8708\n",
            "Epoch 2/100000\n",
            "352/352 [==============================] - 1s 2ms/step - loss: 0.4300 - accuracy: 0.8177 - val_loss: 0.2322 - val_accuracy: 0.9169\n",
            "Epoch 3/100000\n",
            "352/352 [==============================] - 1s 2ms/step - loss: 0.3044 - accuracy: 0.8874 - val_loss: 0.1576 - val_accuracy: 0.9540\n",
            "Epoch 4/100000\n",
            "352/352 [==============================] - 1s 2ms/step - loss: 0.2309 - accuracy: 0.9185 - val_loss: 0.1235 - val_accuracy: 0.9488\n",
            "Epoch 5/100000\n",
            "352/352 [==============================] - 1s 2ms/step - loss: 0.1827 - accuracy: 0.9357 - val_loss: 0.0796 - val_accuracy: 0.9719\n",
            "Epoch 6/100000\n",
            "352/352 [==============================] - 1s 4ms/step - loss: 0.1486 - accuracy: 0.9455 - val_loss: 0.0693 - val_accuracy: 0.9757\n",
            "Epoch 7/100000\n",
            "352/352 [==============================] - 1s 3ms/step - loss: 0.1307 - accuracy: 0.9555 - val_loss: 0.0525 - val_accuracy: 0.9783\n",
            "Epoch 8/100000\n",
            "352/352 [==============================] - 1s 2ms/step - loss: 0.1206 - accuracy: 0.9559 - val_loss: 0.0434 - val_accuracy: 0.9834\n",
            "Epoch 9/100000\n",
            "352/352 [==============================] - 1s 2ms/step - loss: 0.0991 - accuracy: 0.9664 - val_loss: 0.0381 - val_accuracy: 0.9898\n",
            "Epoch 10/100000\n",
            "352/352 [==============================] - 1s 2ms/step - loss: 0.1018 - accuracy: 0.9633 - val_loss: 0.0412 - val_accuracy: 0.9859\n",
            "Epoch 11/100000\n",
            "352/352 [==============================] - 1s 2ms/step - loss: 0.0927 - accuracy: 0.9670 - val_loss: 0.0377 - val_accuracy: 0.9847\n",
            "Epoch 12/100000\n",
            "352/352 [==============================] - 1s 2ms/step - loss: 0.0860 - accuracy: 0.9687 - val_loss: 0.0303 - val_accuracy: 0.9898\n",
            "Epoch 13/100000\n",
            "352/352 [==============================] - 1s 2ms/step - loss: 0.0836 - accuracy: 0.9718 - val_loss: 0.0252 - val_accuracy: 0.9910\n",
            "Epoch 14/100000\n",
            "352/352 [==============================] - 1s 2ms/step - loss: 0.0781 - accuracy: 0.9751 - val_loss: 0.0301 - val_accuracy: 0.9923\n",
            "Epoch 15/100000\n",
            "352/352 [==============================] - 1s 2ms/step - loss: 0.0792 - accuracy: 0.9753 - val_loss: 0.0266 - val_accuracy: 0.9910\n",
            "Epoch 16/100000\n",
            "352/352 [==============================] - 1s 2ms/step - loss: 0.0720 - accuracy: 0.9744 - val_loss: 0.0382 - val_accuracy: 0.9859\n",
            "Epoch 17/100000\n",
            "352/352 [==============================] - 1s 2ms/step - loss: 0.0762 - accuracy: 0.9730 - val_loss: 0.0247 - val_accuracy: 0.9923\n",
            "Epoch 18/100000\n",
            "352/352 [==============================] - 1s 2ms/step - loss: 0.0655 - accuracy: 0.9791 - val_loss: 0.0211 - val_accuracy: 0.9910\n",
            "Epoch 19/100000\n",
            "352/352 [==============================] - 1s 2ms/step - loss: 0.0671 - accuracy: 0.9780 - val_loss: 0.0273 - val_accuracy: 0.9936\n",
            "Epoch 20/100000\n",
            "352/352 [==============================] - 1s 4ms/step - loss: 0.0601 - accuracy: 0.9795 - val_loss: 0.0207 - val_accuracy: 0.9949\n",
            "Epoch 21/100000\n",
            "352/352 [==============================] - 1s 3ms/step - loss: 0.0656 - accuracy: 0.9750 - val_loss: 0.0212 - val_accuracy: 0.9923\n",
            "Epoch 22/100000\n",
            "352/352 [==============================] - 1s 2ms/step - loss: 0.0574 - accuracy: 0.9799 - val_loss: 0.0205 - val_accuracy: 0.9936\n",
            "Epoch 23/100000\n",
            "352/352 [==============================] - 1s 3ms/step - loss: 0.0536 - accuracy: 0.9812 - val_loss: 0.0199 - val_accuracy: 0.9923\n",
            "Epoch 24/100000\n",
            "352/352 [==============================] - 1s 2ms/step - loss: 0.0543 - accuracy: 0.9824 - val_loss: 0.0276 - val_accuracy: 0.9885\n",
            "Epoch 25/100000\n",
            "352/352 [==============================] - 1s 2ms/step - loss: 0.0529 - accuracy: 0.9835 - val_loss: 0.0185 - val_accuracy: 0.9936\n",
            "Epoch 26/100000\n",
            "352/352 [==============================] - 1s 2ms/step - loss: 0.0503 - accuracy: 0.9832 - val_loss: 0.0182 - val_accuracy: 0.9898\n",
            "Epoch 27/100000\n",
            "352/352 [==============================] - 1s 2ms/step - loss: 0.0481 - accuracy: 0.9817 - val_loss: 0.0183 - val_accuracy: 0.9936\n",
            "Epoch 28/100000\n",
            "352/352 [==============================] - 1s 2ms/step - loss: 0.0485 - accuracy: 0.9819 - val_loss: 0.0171 - val_accuracy: 0.9898\n",
            "Epoch 29/100000\n",
            "352/352 [==============================] - 1s 2ms/step - loss: 0.0474 - accuracy: 0.9831 - val_loss: 0.0190 - val_accuracy: 0.9910\n",
            "Epoch 30/100000\n",
            "352/352 [==============================] - 1s 2ms/step - loss: 0.0506 - accuracy: 0.9832 - val_loss: 0.0123 - val_accuracy: 0.9949\n",
            "Epoch 31/100000\n",
            "352/352 [==============================] - 1s 2ms/step - loss: 0.0435 - accuracy: 0.9862 - val_loss: 0.0176 - val_accuracy: 0.9962\n",
            "Epoch 32/100000\n",
            "352/352 [==============================] - 1s 2ms/step - loss: 0.0490 - accuracy: 0.9804 - val_loss: 0.0320 - val_accuracy: 0.9795\n",
            "Epoch 33/100000\n",
            "352/352 [==============================] - 1s 2ms/step - loss: 0.0470 - accuracy: 0.9824 - val_loss: 0.0132 - val_accuracy: 0.9962\n",
            "Epoch 34/100000\n",
            "352/352 [==============================] - 1s 4ms/step - loss: 0.0452 - accuracy: 0.9848 - val_loss: 0.0172 - val_accuracy: 0.9923\n",
            "Epoch 35/100000\n",
            "352/352 [==============================] - 1s 4ms/step - loss: 0.0439 - accuracy: 0.9849 - val_loss: 0.0149 - val_accuracy: 0.9923\n",
            "Epoch 36/100000\n",
            "352/352 [==============================] - 1s 2ms/step - loss: 0.0405 - accuracy: 0.9848 - val_loss: 0.0243 - val_accuracy: 0.9859\n",
            "Epoch 37/100000\n",
            "352/352 [==============================] - 1s 2ms/step - loss: 0.0454 - accuracy: 0.9842 - val_loss: 0.0154 - val_accuracy: 0.9898\n",
            "Epoch 38/100000\n",
            "352/352 [==============================] - 1s 2ms/step - loss: 0.0428 - accuracy: 0.9842 - val_loss: 0.0207 - val_accuracy: 0.9910\n",
            "Epoch 39/100000\n",
            "352/352 [==============================] - 1s 3ms/step - loss: 0.0432 - accuracy: 0.9852 - val_loss: 0.0161 - val_accuracy: 0.9936\n",
            "Epoch 40/100000\n",
            "352/352 [==============================] - 1s 4ms/step - loss: 0.0422 - accuracy: 0.9859 - val_loss: 0.0202 - val_accuracy: 0.9923\n",
            "Epoch 41/100000\n",
            "352/352 [==============================] - 1s 3ms/step - loss: 0.0417 - accuracy: 0.9828 - val_loss: 0.0286 - val_accuracy: 0.9898\n",
            "Epoch 42/100000\n",
            "352/352 [==============================] - 1s 2ms/step - loss: 0.0403 - accuracy: 0.9863 - val_loss: 0.0114 - val_accuracy: 0.9974\n",
            "Epoch 43/100000\n",
            "352/352 [==============================] - 1s 2ms/step - loss: 0.0419 - accuracy: 0.9844 - val_loss: 0.0300 - val_accuracy: 0.9783\n",
            "Epoch 44/100000\n",
            "352/352 [==============================] - 1s 2ms/step - loss: 0.0370 - accuracy: 0.9869 - val_loss: 0.0082 - val_accuracy: 0.9974\n",
            "Epoch 45/100000\n",
            "352/352 [==============================] - 1s 2ms/step - loss: 0.0424 - accuracy: 0.9854 - val_loss: 0.0282 - val_accuracy: 0.9821\n",
            "Epoch 46/100000\n",
            "352/352 [==============================] - 1s 3ms/step - loss: 0.0407 - accuracy: 0.9848 - val_loss: 0.0167 - val_accuracy: 0.9910\n",
            "Epoch 47/100000\n",
            "352/352 [==============================] - 1s 4ms/step - loss: 0.0459 - accuracy: 0.9835 - val_loss: 0.0188 - val_accuracy: 0.9910\n",
            "Epoch 48/100000\n",
            "352/352 [==============================] - 1s 3ms/step - loss: 0.0382 - accuracy: 0.9879 - val_loss: 0.0085 - val_accuracy: 0.9974\n",
            "Epoch 49/100000\n",
            "352/352 [==============================] - 1s 2ms/step - loss: 0.0356 - accuracy: 0.9889 - val_loss: 0.0230 - val_accuracy: 0.9898\n",
            "Epoch 50/100000\n",
            "352/352 [==============================] - 1s 2ms/step - loss: 0.0377 - accuracy: 0.9855 - val_loss: 0.0120 - val_accuracy: 0.9962\n",
            "Epoch 51/100000\n",
            "352/352 [==============================] - 1s 2ms/step - loss: 0.0406 - accuracy: 0.9855 - val_loss: 0.0110 - val_accuracy: 0.9962\n",
            "Epoch 52/100000\n",
            "352/352 [==============================] - 1s 2ms/step - loss: 0.0348 - accuracy: 0.9872 - val_loss: 0.0121 - val_accuracy: 0.9974\n",
            "Epoch 53/100000\n",
            "352/352 [==============================] - 1s 2ms/step - loss: 0.0394 - accuracy: 0.9844 - val_loss: 0.0099 - val_accuracy: 1.0000\n",
            "Epoch 54/100000\n",
            "352/352 [==============================] - 1s 2ms/step - loss: 0.0321 - accuracy: 0.9896 - val_loss: 0.0103 - val_accuracy: 0.9962\n",
            "Epoch 55/100000\n",
            "352/352 [==============================] - 1s 2ms/step - loss: 0.0351 - accuracy: 0.9889 - val_loss: 0.0166 - val_accuracy: 0.9936\n",
            "Epoch 56/100000\n",
            "352/352 [==============================] - 1s 2ms/step - loss: 0.0362 - accuracy: 0.9856 - val_loss: 0.0208 - val_accuracy: 0.9898\n",
            "Epoch 57/100000\n",
            "352/352 [==============================] - 1s 2ms/step - loss: 0.0372 - accuracy: 0.9856 - val_loss: 0.0123 - val_accuracy: 0.9974\n",
            "Epoch 58/100000\n",
            "352/352 [==============================] - 1s 2ms/step - loss: 0.0311 - accuracy: 0.9881 - val_loss: 0.0108 - val_accuracy: 0.9962\n",
            "Epoch 59/100000\n",
            "352/352 [==============================] - 1s 2ms/step - loss: 0.0356 - accuracy: 0.9858 - val_loss: 0.0146 - val_accuracy: 0.9949\n",
            "Epoch 60/100000\n",
            "352/352 [==============================] - 1s 3ms/step - loss: 0.0474 - accuracy: 0.9832 - val_loss: 0.0363 - val_accuracy: 0.9719\n",
            "Epoch 61/100000\n",
            "352/352 [==============================] - 1s 3ms/step - loss: 0.0361 - accuracy: 0.9856 - val_loss: 0.0109 - val_accuracy: 0.9949\n",
            "Epoch 62/100000\n",
            "352/352 [==============================] - 1s 4ms/step - loss: 0.0432 - accuracy: 0.9858 - val_loss: 0.0252 - val_accuracy: 0.9847\n",
            "Epoch 63/100000\n",
            "352/352 [==============================] - 1s 2ms/step - loss: 0.0381 - accuracy: 0.9866 - val_loss: 0.0127 - val_accuracy: 0.9949\n",
            "Epoch 64/100000\n",
            "352/352 [==============================] - 1s 2ms/step - loss: 0.0392 - accuracy: 0.9862 - val_loss: 0.0100 - val_accuracy: 0.9962\n",
            "Epoch 65/100000\n",
            "352/352 [==============================] - 1s 2ms/step - loss: 0.0355 - accuracy: 0.9855 - val_loss: 0.0115 - val_accuracy: 0.9936\n",
            "Epoch 66/100000\n",
            "352/352 [==============================] - 1s 2ms/step - loss: 0.0378 - accuracy: 0.9869 - val_loss: 0.0214 - val_accuracy: 0.9885\n",
            "Epoch 67/100000\n",
            "352/352 [==============================] - 1s 2ms/step - loss: 0.0418 - accuracy: 0.9832 - val_loss: 0.0099 - val_accuracy: 0.9949\n",
            "Epoch 68/100000\n",
            "352/352 [==============================] - 1s 2ms/step - loss: 0.0326 - accuracy: 0.9899 - val_loss: 0.0102 - val_accuracy: 0.9974\n",
            "Epoch 69/100000\n",
            "352/352 [==============================] - 1s 2ms/step - loss: 0.0364 - accuracy: 0.9861 - val_loss: 0.0169 - val_accuracy: 0.9949\n",
            "Epoch 70/100000\n",
            "352/352 [==============================] - 1s 2ms/step - loss: 0.0430 - accuracy: 0.9849 - val_loss: 0.0389 - val_accuracy: 0.9859\n",
            "Epoch 71/100000\n",
            "352/352 [==============================] - 1s 2ms/step - loss: 0.0387 - accuracy: 0.9865 - val_loss: 0.0129 - val_accuracy: 0.9974\n",
            "Epoch 72/100000\n",
            "352/352 [==============================] - 1s 2ms/step - loss: 0.0370 - accuracy: 0.9861 - val_loss: 0.0163 - val_accuracy: 0.9898\n",
            "Epoch 73/100000\n",
            "352/352 [==============================] - 1s 2ms/step - loss: 0.0298 - accuracy: 0.9898 - val_loss: 0.0264 - val_accuracy: 0.9885\n"
          ]
        }
      ]
    },
    {
      "cell_type": "code",
      "source": [
        "# learning curve\n",
        "import matplotlib.pyplot as plt\n",
        "\n",
        "# accuracy\n",
        "acc = history.history['accuracy']\n",
        "val_acc = history.history['val_accuracy']\n",
        "\n",
        "# loss\n",
        "loss = history.history['loss']\n",
        "val_loss = history.history['val_loss']\n",
        "\n",
        "epochs = range(1, len(acc) + 1)\n",
        "plt.plot(epochs, acc, 'bo', label='Training accuracy')\n",
        "plt.plot(epochs, val_acc, 'b', label='Validation accuracy')\n",
        "plt.title('Training and validation accuracy')\n",
        "plt.xlabel('Epochs')\n",
        "plt.ylabel('Accuracy')\n",
        "plt.legend()\n",
        "\n",
        "plt.show()"
      ],
      "metadata": {
        "colab": {
          "base_uri": "https://localhost:8080/",
          "height": 472
        },
        "id": "QZSv3QLo-0lb",
        "outputId": "5f17ba93-12c9-4f50-d328-0bc191b164a4"
      },
      "execution_count": null,
      "outputs": [
        {
          "output_type": "display_data",
          "data": {
            "text/plain": [
              "<Figure size 640x480 with 1 Axes>"
            ],
            "image/png": "[encoded data removed]"
          },
          "metadata": {}
        }
      ]
    },
    {
      "cell_type": "code",
      "source": [
        "np.max(val_acc)"
      ],
      "metadata": {
        "colab": {
          "base_uri": "https://localhost:8080/"
        },
        "id": "V4ULwWbo_yoT",
        "outputId": "57cc298d-3e60-493b-acfc-ffab6a7e5a63"
      },
      "execution_count": null,
      "outputs": [
        {
          "output_type": "execute_result",
          "data": {
            "text/plain": [
              "1.0"
            ]
          },
          "metadata": {},
          "execution_count": 30
        }
      ]
    },
    {
      "cell_type": "code",
      "source": [
        "# Error Metrics\n",
        "\n",
        "from sklearn.metrics import accuracy_score, precision_score, recall_score, f1_score, confusion_matrix\n",
        "\n",
        "def print_metrics(y_true, y_pred, title):\n",
        "    accuracy = accuracy_score(y_true, y_pred)\n",
        "    precision = precision_score(y_true, y_pred)\n",
        "    recall = recall_score(y_true, y_pred)\n",
        "    f1 = f1_score(y_true, y_pred)\n",
        "    print(title)\n",
        "    print(f'Accuracy: {accuracy:.2f}')\n",
        "    print(f'Precision: {precision:.2f}')\n",
        "    print(f'Recall: {recall:.2f}')\n",
        "    print(f'F1-score: {f1:.2f}')\n",
        "    print()\n",
        "\n",
        "# Predictions\n",
        "y_train_pred = model.predict(x_train)\n",
        "y_test_pred = model.predict(x_test)\n",
        "\n",
        "# Thresholding predictions\n",
        "threshold = 0.5\n",
        "y_train_pred_binary = (y_train_pred > threshold).astype(int)\n",
        "y_test_pred_binary = (y_test_pred > threshold).astype(int)\n",
        "\n",
        "# Print metrics\n",
        "print_metrics(y_train, y_train_pred_binary, 'Train Metrics:')\n",
        "print_metrics(y_test, y_test_pred_binary, 'Test Metrics:')"
      ],
      "metadata": {
        "colab": {
          "base_uri": "https://localhost:8080/"
        },
        "id": "dZnoPADnyCm0",
        "outputId": "c078eebe-d779-4215-f824-faa1ab7b3f6f"
      },
      "execution_count": null,
      "outputs": [
        {
          "output_type": "stream",
          "name": "stdout",
          "text": [
            "220/220 [==============================] - 0s 2ms/step\n",
            "25/25 [==============================] - 0s 2ms/step\n",
            "Train Metrics:\n",
            "Accuracy: 1.00\n",
            "Precision: 1.00\n",
            "Recall: 1.00\n",
            "F1-score: 1.00\n",
            "\n",
            "Test Metrics:\n",
            "Accuracy: 1.00\n",
            "Precision: 1.00\n",
            "Recall: 1.00\n",
            "F1-score: 1.00\n",
            "\n"
          ]
        }
      ]
    },
    {
      "cell_type": "code",
      "source": [
        "# Confusion Matrices\n",
        "def plot_confusion_matrix(y_true, y_pred, title):\n",
        "    cm = confusion_matrix(y_true, y_pred)\n",
        "    plt.figure(figsize=(6, 6))\n",
        "    sns.heatmap(cm, annot=True, fmt='d', cmap='Blues', cbar=False)\n",
        "    plt.title(title)\n",
        "    plt.xlabel('Predicted')\n",
        "    plt.ylabel('True')\n",
        "    plt.show()\n",
        "\n",
        "plot_confusion_matrix(y_train, y_train_pred_binary, 'Train Confusion Matrix')\n",
        "plot_confusion_matrix(y_test, y_test_pred_binary, 'Test Confusion Matrix')\n"
      ],
      "metadata": {
        "colab": {
          "base_uri": "https://localhost:8080/",
          "height": 1000
        },
        "id": "okE_-UgqyXnJ",
        "outputId": "e178dfb6-ff12-4fac-930d-f55fba4db99a"
      },
      "execution_count": null,
      "outputs": [
        {
          "output_type": "display_data",
          "data": {
            "text/plain": [
              "<Figure size 600x600 with 1 Axes>"
            ],
            "image/png": "[encoded data removed]"
          },
          "metadata": {}
        },
        {
          "output_type": "display_data",
          "data": {
            "text/plain": [
              "<Figure size 600x600 with 1 Axes>"
            ],
            "image/png": "[encoded data removed]"
          },
          "metadata": {}
        }
      ]
    },
    {
      "cell_type": "markdown",
      "source": [
        "##Takeaways\n",
        " The models perform well on the training and testing data. The cureve shows a slight learning curve before flattening out. Most of the data in the confusion matrix is in the diagonal. This raises concerns of overfitting , data leakage and data imbalance.\n",
        "\n",
        "\n",
        " We have used a validation set which also performs well. We have taken measures like using standard scaler and adding dropout for all layers. We have also kept shuffle to ensure that data is continously shuffled. While looking at the preprocessing steps, we have not removed poverty column from training set,it could be a huge contributing factor. I tried an alternate model by removing poverty model but got accuracy at 100%. I have thus gone ahead with the current model setup"
      ],
      "metadata": {
        "id": "qOi-GvSuU4Dz"
      }
    },
    {
      "cell_type": "code",
      "source": [
        "# Baseline prediction\n",
        "mean_prediction = np.mean(y_train)\n",
        "y_train_baseline = np.full_like(y_train, mean_prediction)\n",
        "y_test_baseline = np.full_like(y_test, mean_prediction)\n",
        "\n",
        "# Baseline metrics\n",
        "print_metrics(y_train, y_train_baseline, 'Train Baseline Metrics:')\n",
        "print_metrics(y_test, y_test_baseline, 'Test Baseline Metrics:')"
      ],
      "metadata": {
        "colab": {
          "base_uri": "https://localhost:8080/"
        },
        "id": "WOR7btVFybyL",
        "outputId": "ea5f096b-4a68-4d3d-8393-f07f70113d84"
      },
      "execution_count": null,
      "outputs": [
        {
          "output_type": "stream",
          "name": "stdout",
          "text": [
            "Train Baseline Metrics:\n",
            "Accuracy: 0.55\n",
            "Precision: 0.00\n",
            "Recall: 0.00\n",
            "F1-score: 0.00\n",
            "\n",
            "Test Baseline Metrics:\n",
            "Accuracy: 0.52\n",
            "Precision: 0.00\n",
            "Recall: 0.00\n",
            "F1-score: 0.00\n",
            "\n"
          ]
        },
        {
          "output_type": "stream",
          "name": "stderr",
          "text": [
            "/usr/local/lib/python3.10/dist-packages/sklearn/metrics/_classification.py:1344: UndefinedMetricWarning: Precision is ill-defined and being set to 0.0 due to no predicted samples. Use `zero_division` parameter to control this behavior.\n",
            "  _warn_prf(average, modifier, msg_start, len(result))\n",
            "/usr/local/lib/python3.10/dist-packages/sklearn/metrics/_classification.py:1344: UndefinedMetricWarning: Precision is ill-defined and being set to 0.0 due to no predicted samples. Use `zero_division` parameter to control this behavior.\n",
            "  _warn_prf(average, modifier, msg_start, len(result))\n"
          ]
        }
      ]
    },
    {
      "cell_type": "markdown",
      "source": [
        "It is evident that the performance of baseline models are much more poorer than the deep learning model. Hence the deep learning models proved better in prediction."
      ],
      "metadata": {
        "id": "J5ybzACBUKe7"
      }
    }
  ]
}